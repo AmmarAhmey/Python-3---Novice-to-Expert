{
 "cells": [
  {
   "cell_type": "markdown",
   "metadata": {},
   "source": [
    "<h1 align = center>Dictionaries in Python </h1>\n"
   ]
  },
  {
   "cell_type": "markdown",
   "metadata": {},
   "source": [
    "**Table of contents**<a id='toc0_'></a>    \n",
    "- [Defining a Dictionary](#toc1_1_)    \n",
    "    - [Defining Dictionary using Curly Braces](#toc1_1_1_)    \n",
    "    - [Defining a Dictionary using Dict() Function](#toc1_1_2_)    \n",
    "      - [Difference between Curly Braces {} and Dict() Function.](#toc1_1_2_1_)    \n",
    "    - [Converting an existing iterable into a dictionary.](#toc1_1_3_)    \n",
    "    - [Defining a Dictionary using Dictionary Comprehension](#toc1_1_4_)    \n",
    "  - [Accessing The Contents of a Dictionary](#toc1_2_)    \n",
    "    - [Accessing only Keys](#toc1_2_1_)    \n",
    "    - [Accessing only Values](#toc1_2_2_)    \n",
    "    - [Accessing a Particular Key and Value Pair](#toc1_2_3_)    \n",
    "    - [Returning a Default Value if the Key is not Available in the Dictionary](#toc1_2_4_)    \n",
    "    - [Checking the Existance of Some key in Our Dictionary](#toc1_2_5_)    \n",
    "  - [Iterating Through a Dictionary](#toc1_3_)    \n",
    "    - [Iterating On Keys Only.](#toc1_3_1_)    \n",
    "    - [Iterating on Values Only](#toc1_3_2_)    \n",
    "    - [Iterating on Keys and Values Together](#toc1_3_3_)    \n",
    "  - [Addition and Updation in Dictionary](#toc1_4_)    \n",
    "    - [Adding New Key and Value Pair](#toc1_4_1_)    \n",
    "    - [Adding Multiple Key and Value Pairs at Once](#toc1_4_2_)    \n",
    "    - [Updating an Existing Key's Value](#toc1_4_3_)    \n",
    "    - [Defining a Default Value for a Key](#toc1_4_4_)    \n",
    "    - [Combining Two Dictionaries](#toc1_4_5_)    \n",
    "  - [Making a Copy of a Dictionary](#toc1_5_)    \n",
    "  - [Sorting Dictionary Items](#toc1_6_)    \n",
    "    - [Sorting Dictionary As Per Dictionary Keys](#toc1_6_1_)    \n",
    "  - [Performing Set Operations on Dictionary Keys](#toc1_7_)    \n",
    "  - [Removing Items from a Dictionary](#toc1_8_)    \n",
    "    - [Removing a Key and Value Pair by Mentioning a Key](#toc1_8_1_)    \n",
    "    - [Removing the Last Added Key and Value Pair](#toc1_8_2_)    \n",
    "    - [Removing all the Elements of a Dictionary](#toc1_8_3_)    \n",
    "  - [Reversing the Contents of a Dictionary (Key to Value and Vice Versa)](#toc1_9_)    \n",
    "  - [Nested Dictionaries / Dictionaries inside Dictionaries](#toc1_10_)    \n",
    "    - [Defining a Nested Dictionary](#toc1_10_1_)    \n",
    "    - [Accessing Elements of a Nested Dictionary](#toc1_10_2_)    \n",
    "    - [Adding New Elements in Nested Dictionary](#toc1_10_3_)    \n",
    "    - [Looping through a Nested Dictionary](#toc1_10_4_)    \n",
    "\n",
    "<!-- vscode-jupyter-toc-config\n",
    "\tnumbering=false\n",
    "\tanchor=true\n",
    "\tflat=false\n",
    "\tminLevel=1\n",
    "\tmaxLevel=6\n",
    "\t/vscode-jupyter-toc-config -->\n",
    "<!-- THIS CELL WILL BE REPLACED ON TOC UPDATE. DO NOT WRITE YOUR TEXT IN THIS CELL -->"
   ]
  },
  {
   "cell_type": "markdown",
   "metadata": {},
   "source": [
    "## <a id='toc1_1_'></a>[Defining a Dictionary](#toc0_)\n",
    "There are several ways to define a dictionary. \n",
    "1. Using curly braces {}.\n",
    "2. Using Dict() function.\n",
    "3. Converting an existing iterable into a dictionary.\n",
    "4. Using Dictionary Comprehensions\n",
    "\n",
    "### <a id='toc1_1_1_'></a>[Defining Dictionary using Curly Braces](#toc0_)"
   ]
  },
  {
   "cell_type": "code",
   "execution_count": 1,
   "metadata": {},
   "outputs": [
    {
     "name": "stdout",
     "output_type": "stream",
     "text": [
      "{'stu_name': 'first_student', 'program': 'BSCS', 'CGPA': 4.0}\n"
     ]
    }
   ],
   "source": [
    "a_dictionary = {\n",
    "    'stu_name' :'first_student',\n",
    "    'program' : 'BSCS',\n",
    "    'CGPA' : 4.0\n",
    "    }\n",
    "\n",
    "print(a_dictionary)"
   ]
  },
  {
   "cell_type": "markdown",
   "metadata": {},
   "source": [
    "### <a id='toc1_1_2_'></a>[Defining a Dictionary using Dict() Function](#toc0_)"
   ]
  },
  {
   "cell_type": "code",
   "execution_count": 2,
   "metadata": {},
   "outputs": [
    {
     "name": "stdout",
     "output_type": "stream",
     "text": [
      "{'stu_name': 'first_student', 'program': 'BSCS', 'CGPA': 4.0}\n"
     ]
    }
   ],
   "source": [
    "b_dictionary = dict(\n",
    "    stu_name = 'first_student',\n",
    "    program = 'BSCS',\n",
    "    CGPA = 4.0\n",
    ")\n",
    "\n",
    "print(b_dictionary)"
   ]
  },
  {
   "cell_type": "markdown",
   "metadata": {},
   "source": [
    "#### <a id='toc1_1_2_1_'></a>[Difference between Curly Braces {} and Dict() Function.](#toc0_)\n",
    "- In the curly braces {} method, we separate the key and value with a colon ' : ', each key and value pair is separated using a comma ' , ', if our key name is a text, do not forget it to enclose in quotation marks. \n",
    "- On the other hand, In the dict() function, we separate the key and value with a equal sign ' = ', each key and value pair is separated using a comma ' , ', if our key name is a text, we *__should not__* enclose it in quotation marks. "
   ]
  },
  {
   "cell_type": "markdown",
   "metadata": {},
   "source": [
    "### <a id='toc1_1_3_'></a>[Converting an existing iterable into a dictionary.](#toc0_)\n"
   ]
  },
  {
   "cell_type": "code",
   "execution_count": 3,
   "metadata": {},
   "outputs": [
    {
     "name": "stdout",
     "output_type": "stream",
     "text": [
      "[('stu_name', 'first_student'), ('program', 'BSCS'), ('CGPA', 4.0)], Type = <class 'list'>\n",
      "=============\n",
      "{'stu_name': 'first_student', 'program': 'BSCS', 'CGPA': 4.0}, Type = <class 'dict'>\n"
     ]
    }
   ],
   "source": [
    "# creating a dictionary using an iterable that contains both keys and values, such as tuples. \n",
    "\n",
    "a_list_of_tuples = [('stu_name', 'first_student'), ('program', 'BSCS'), ('CGPA', 4.0)]\n",
    "print(f'{a_list_of_tuples}, Type = {type(a_list_of_tuples)}')\n",
    "\n",
    "print('=============')\n",
    "\n",
    "# converting to dictionary\n",
    "c_dictionary = dict(a_list_of_tuples)\n",
    "print(f'{c_dictionary}, Type = {type(c_dictionary)}')"
   ]
  },
  {
   "cell_type": "code",
   "execution_count": 4,
   "metadata": {},
   "outputs": [
    {
     "name": "stdout",
     "output_type": "stream",
     "text": [
      "['key_1', 'key_2', 'key_3', 'key_4']\n",
      "15\n",
      "=============\n",
      "{'key_1': 15, 'key_2': 15, 'key_3': 15, 'key_4': 15}, Type = <class 'dict'>\n"
     ]
    }
   ],
   "source": [
    "# creating a dictionary using an iterable that contains only keys\n",
    "# we can use this type of iterable to generate a dictionary with multiple keys and a common value\n",
    "\n",
    "a_list_of_keys = ['key_'+ str(a_number) for a_number in range(1, 5)]\n",
    "common_value = 15\n",
    "print(a_list_of_keys)\n",
    "print(common_value)\n",
    "\n",
    "print('=============')\n",
    "\n",
    "# converting to dictionary\n",
    "c_dictionary = dict.fromkeys(a_list_of_keys, 15)\n",
    "print(f'{c_dictionary}, Type = {type(c_dictionary)}')"
   ]
  },
  {
   "cell_type": "markdown",
   "metadata": {},
   "source": [
    "### <a id='toc1_1_4_'></a>[Defining a Dictionary using Dictionary Comprehension](#toc0_)"
   ]
  },
  {
   "cell_type": "code",
   "execution_count": 5,
   "metadata": {},
   "outputs": [
    {
     "name": "stdout",
     "output_type": "stream",
     "text": [
      "key_name 1 : 10\n",
      "key_name 2 : 20\n",
      "key_name 3 : 30\n",
      "key_name 4 : 40\n"
     ]
    }
   ],
   "source": [
    "# template to create such a dictionary \n",
    "# dictionary_name = {keys_name : values for values in any_iterable_variable if optional_condition_for_value}\n",
    "\n",
    "d_dictionary = {'key_name '+str(value) : value*10 for value in range(1, 5)}\n",
    "\n",
    "for key, value in d_dictionary.items():\n",
    "    print(f'{key} : {value}')\n"
   ]
  },
  {
   "cell_type": "markdown",
   "metadata": {},
   "source": [
    "Explanation\n",
    "- __'variable_name '+str(key)__ = if we give a single key name, it will not be used multiple times to store multiple values, because the dictionaries have unique keys, therefore, only one key and variable pair will be created. That is why, we added a random random in the name of key, that will be incremented for each new value, here this random number is simply the index of value in provided iterable. \n",
    "- __value*10__ = will multiply each value of provided iterable with 10 and then use the answer as the value of our newly generated key. \n",
    "- __range(1,5)__ = this can be any iterable, here range() function is used that will provide a iterable with values from 1 to 5. "
   ]
  },
  {
   "cell_type": "markdown",
   "metadata": {},
   "source": [
    "## <a id='toc1_2_'></a>[Accessing The Contents of a Dictionary](#toc0_)"
   ]
  },
  {
   "cell_type": "markdown",
   "metadata": {},
   "source": [
    "### <a id='toc1_2_1_'></a>[Accessing only Keys](#toc0_)"
   ]
  },
  {
   "cell_type": "code",
   "execution_count": 6,
   "metadata": {},
   "outputs": [
    {
     "name": "stdout",
     "output_type": "stream",
     "text": [
      "dict_keys(['stu_name', 'program', 'CGPA'])\n"
     ]
    }
   ],
   "source": [
    "# accessing only Keys\n",
    "keys = a_dictionary.keys()\n",
    "\n",
    "print(keys)"
   ]
  },
  {
   "cell_type": "markdown",
   "metadata": {},
   "source": [
    "### <a id='toc1_2_2_'></a>[Accessing only Values](#toc0_)"
   ]
  },
  {
   "cell_type": "code",
   "execution_count": 7,
   "metadata": {},
   "outputs": [
    {
     "name": "stdout",
     "output_type": "stream",
     "text": [
      "dict_values(['first_student', 'BSCS', 4.0])\n"
     ]
    }
   ],
   "source": [
    "# accessing only values \n",
    "values = a_dictionary.values()\n",
    "\n",
    "print(values)"
   ]
  },
  {
   "cell_type": "markdown",
   "metadata": {},
   "source": [
    "### <a id='toc1_2_3_'></a>[Accessing a Particular Key and Value Pair](#toc0_)"
   ]
  },
  {
   "cell_type": "code",
   "execution_count": 8,
   "metadata": {},
   "outputs": [
    {
     "name": "stdout",
     "output_type": "stream",
     "text": [
      "first_student\n",
      "first_student\n"
     ]
    }
   ],
   "source": [
    "# accessing the value of a particular key using square brackets\n",
    "\n",
    "variable = a_dictionary['stu_name']\n",
    "\n",
    "print(variable)\n",
    "\n",
    "# accessing the value of particular key using get() method.\n",
    "\n",
    "variable = a_dictionary.get('stu_name')\n",
    "print(variable)\n",
    "\n",
    "# "
   ]
  },
  {
   "cell_type": "markdown",
   "metadata": {},
   "source": [
    "### <a id='toc1_2_4_'></a>[Returning a Default Value if the Key is not Available in the Dictionary](#toc0_)"
   ]
  },
  {
   "cell_type": "code",
   "execution_count": 9,
   "metadata": {},
   "outputs": [
    {
     "name": "stdout",
     "output_type": "stream",
     "text": [
      "dict_keys(['stu_name', 'program', 'CGPA'])\n",
      "Pakistan\n"
     ]
    }
   ],
   "source": [
    "print(a_dictionary.keys())\n",
    "\n",
    "variable = a_dictionary.get('country', 'Pakistan') # as there is no 'country' key in the dictionary, a default value 'Pakistan' will be returned if someone searches for 'country' key. \n",
    "\n",
    "print(variable)"
   ]
  },
  {
   "cell_type": "markdown",
   "metadata": {},
   "source": [
    "### <a id='toc1_2_5_'></a>[Checking the Existance of Some key in Our Dictionary](#toc0_)"
   ]
  },
  {
   "cell_type": "code",
   "execution_count": 10,
   "metadata": {},
   "outputs": [
    {
     "name": "stdout",
     "output_type": "stream",
     "text": [
      "True\n",
      "False\n"
     ]
    }
   ],
   "source": [
    "variable = 'stu_name' in a_dictionary\n",
    "print(variable)\n",
    "\n",
    "variable = 'country' in a_dictionary\n",
    "print(variable)\n"
   ]
  },
  {
   "cell_type": "markdown",
   "metadata": {},
   "source": [
    "## <a id='toc1_3_'></a>[Iterating Through a Dictionary](#toc0_)"
   ]
  },
  {
   "cell_type": "markdown",
   "metadata": {},
   "source": [
    "### <a id='toc1_3_1_'></a>[Iterating On Keys Only.](#toc0_)"
   ]
  },
  {
   "cell_type": "code",
   "execution_count": 11,
   "metadata": {},
   "outputs": [
    {
     "name": "stdout",
     "output_type": "stream",
     "text": [
      "stu_name\n",
      "program\n",
      "CGPA\n"
     ]
    }
   ],
   "source": [
    "for keys in a_dictionary.keys(): # method used is keys()\n",
    "    print(keys)"
   ]
  },
  {
   "cell_type": "markdown",
   "metadata": {},
   "source": [
    "### <a id='toc1_3_2_'></a>[Iterating on Values Only](#toc0_)"
   ]
  },
  {
   "cell_type": "code",
   "execution_count": 12,
   "metadata": {},
   "outputs": [
    {
     "name": "stdout",
     "output_type": "stream",
     "text": [
      "first_student\n",
      "BSCS\n",
      "4.0\n"
     ]
    }
   ],
   "source": [
    "for values in a_dictionary.values(): # method used is values()\n",
    "    print(values)"
   ]
  },
  {
   "cell_type": "markdown",
   "metadata": {},
   "source": [
    "### <a id='toc1_3_3_'></a>[Iterating on Keys and Values Together](#toc0_)"
   ]
  },
  {
   "cell_type": "code",
   "execution_count": 13,
   "metadata": {},
   "outputs": [
    {
     "name": "stdout",
     "output_type": "stream",
     "text": [
      " stu_name : first_student\n",
      " program : BSCS\n",
      " CGPA : 4.0\n"
     ]
    }
   ],
   "source": [
    "for keys, values in a_dictionary.items(): # method used is items() \n",
    "    print(f' {keys} : {values}')"
   ]
  },
  {
   "cell_type": "markdown",
   "metadata": {},
   "source": [
    "## <a id='toc1_4_'></a>[Addition and Updation in Dictionary](#toc0_)"
   ]
  },
  {
   "cell_type": "markdown",
   "metadata": {},
   "source": [
    "### <a id='toc1_4_1_'></a>[Adding New Key and Value Pair](#toc0_)"
   ]
  },
  {
   "cell_type": "code",
   "execution_count": 14,
   "metadata": {},
   "outputs": [
    {
     "name": "stdout",
     "output_type": "stream",
     "text": [
      "{'stu_name': 'first_student', 'program': 'BSCS', 'CGPA': 4.0}\n",
      "{'stu_name': 'first_student', 'program': 'BSCS', 'CGPA': 4.0, 'County': 'Pakistan'}\n"
     ]
    }
   ],
   "source": [
    "print(a_dictionary)\n",
    "\n",
    "a_dictionary['County'] = 'Pakistan'\n",
    "\n",
    "print(a_dictionary)\n"
   ]
  },
  {
   "cell_type": "markdown",
   "metadata": {},
   "source": [
    "### <a id='toc1_4_2_'></a>[Adding Multiple Key and Value Pairs at Once](#toc0_)"
   ]
  },
  {
   "cell_type": "code",
   "execution_count": 15,
   "metadata": {},
   "outputs": [
    {
     "name": "stdout",
     "output_type": "stream",
     "text": [
      "{'stu_name': 'first_student', 'program': 'BSCS', 'CGPA': 4.0, 'County': 'Pakistan'}\n",
      "{'stu_name': 'first_student', 'program': 'BSCS', 'CGPA': 4.0, 'County': 'Pakistan', 'age': 31, 'grade': 'A'}\n"
     ]
    }
   ],
   "source": [
    "print(a_dictionary)\n",
    "\n",
    "a_dictionary.update({'age' : 31, 'grade' : 'A'})\n",
    "\n",
    "print(a_dictionary)"
   ]
  },
  {
   "cell_type": "markdown",
   "metadata": {},
   "source": [
    "### <a id='toc1_4_3_'></a>[Updating an Existing Key's Value](#toc0_)"
   ]
  },
  {
   "cell_type": "code",
   "execution_count": 16,
   "metadata": {},
   "outputs": [
    {
     "name": "stdout",
     "output_type": "stream",
     "text": [
      "{'stu_name': 'first_student', 'program': 'BSCS', 'CGPA': 4.0, 'County': 'Pakistan', 'age': 31, 'grade': 'A'}\n",
      "{'stu_name': 'first_student', 'program': 'Masters of Science', 'CGPA': 4.0, 'County': 'Pakistan', 'age': 31, 'grade': 'A'}\n"
     ]
    }
   ],
   "source": [
    "print(a_dictionary)\n",
    "\n",
    "a_dictionary['program'] = 'Masters of Science'\n",
    "\n",
    "print(a_dictionary)"
   ]
  },
  {
   "cell_type": "markdown",
   "metadata": {},
   "source": [
    "### <a id='toc1_4_4_'></a>[Defining a Default Value for a Key](#toc0_)\n",
    "This will set the provided value as default value but if the mentioned key already contains a value, this will return that value instead of updating it with the provided default value. "
   ]
  },
  {
   "cell_type": "code",
   "execution_count": 17,
   "metadata": {},
   "outputs": [
    {
     "name": "stdout",
     "output_type": "stream",
     "text": [
      "{'stu_name': 'first_student', 'program': 'Masters of Science', 'CGPA': 4.0, 'County': 'Pakistan', 'age': 31, 'grade': 'A'}\n"
     ]
    },
    {
     "data": {
      "text/plain": [
       "31"
      ]
     },
     "execution_count": 17,
     "metadata": {},
     "output_type": "execute_result"
    }
   ],
   "source": [
    "print(a_dictionary)\n",
    "\n",
    "a_dictionary.setdefault('age', 32) # as the mentioned key already has a value, the default value will not be set and already existing value will be returned."
   ]
  },
  {
   "cell_type": "markdown",
   "metadata": {},
   "source": [
    "### <a id='toc1_4_5_'></a>[Combining Two Dictionaries](#toc0_)"
   ]
  },
  {
   "cell_type": "code",
   "execution_count": 18,
   "metadata": {},
   "outputs": [
    {
     "name": "stdout",
     "output_type": "stream",
     "text": [
      "{'A': 1, 'B': 2}\n",
      "{'C': 3, 'D': 4}\n",
      "{'A': 1, 'B': 2, 'C': 3, 'D': 4}\n"
     ]
    }
   ],
   "source": [
    "dict_one = {'A' : 1, 'B' : 2}\n",
    "dict_two = {'C' : 3, 'D' : 4}\n",
    "print(dict_one)\n",
    "print(dict_two)\n",
    "\n",
    "dict_one.update(dict_two) # same procedure as to add multiple key and value pairs at once. \n",
    "print(dict_one)"
   ]
  },
  {
   "cell_type": "markdown",
   "metadata": {},
   "source": [
    "## <a id='toc1_5_'></a>[Making a Copy of a Dictionary](#toc0_)"
   ]
  },
  {
   "cell_type": "code",
   "execution_count": 19,
   "metadata": {},
   "outputs": [
    {
     "name": "stdout",
     "output_type": "stream",
     "text": [
      "{'A': 1, 'B': 2}\n",
      "{'A': 1, 'B': 2}\n"
     ]
    }
   ],
   "source": [
    "dict_one = {'A' : 1, 'B' : 2}\n",
    "print(dict_one)\n",
    "\n",
    "dict_two = dict_one.copy()\n",
    "print(dict_two)"
   ]
  },
  {
   "cell_type": "markdown",
   "metadata": {},
   "source": [
    "## <a id='toc1_6_'></a>[Sorting Dictionary Items](#toc0_)"
   ]
  },
  {
   "cell_type": "markdown",
   "metadata": {},
   "source": [
    "### <a id='toc1_6_1_'></a>[Sorting Dictionary As Per Dictionary Keys](#toc0_)"
   ]
  },
  {
   "cell_type": "code",
   "execution_count": 20,
   "metadata": {},
   "outputs": [
    {
     "name": "stdout",
     "output_type": "stream",
     "text": [
      "{'stu_name': 'first_student', 'program': 'Masters of Science', 'CGPA': 4.0, 'County': 'Pakistan', 'age': 31, 'grade': 'A'}\n",
      "[('CGPA', 4.0), ('County', 'Pakistan'), ('age', 31), ('grade', 'A'), ('program', 'Masters of Science'), ('stu_name', 'first_student')]\n"
     ]
    }
   ],
   "source": [
    "print(a_dictionary)\n",
    "\n",
    "some_dictionary = sorted(a_dictionary.items())\n",
    "print(some_dictionary)\n"
   ]
  },
  {
   "cell_type": "markdown",
   "metadata": {},
   "source": [
    "We can also sorted our dictionary according to the values instead of the keys, but it uses lambda expressions, which is an advanced concept, we will try to perform this operation once we learn lambda expressions at the advanced stage. "
   ]
  },
  {
   "cell_type": "markdown",
   "metadata": {},
   "source": [
    "## <a id='toc1_7_'></a>[Performing Set Operations on Dictionary Keys](#toc0_)"
   ]
  },
  {
   "cell_type": "code",
   "execution_count": 21,
   "metadata": {},
   "outputs": [
    {
     "name": "stdout",
     "output_type": "stream",
     "text": [
      "{'x', 'y'}\n",
      "{'z'}\n",
      "{'z', 'w', 'x', 'y'}\n"
     ]
    }
   ],
   "source": [
    "a = {\"x\": 1, \"y\": 2, \"z\": 3}\n",
    "b = {\"w\": 10, \"x\": 11, \"y\": 2}\n",
    "\n",
    "# Intersection (common keys)\n",
    "common_keys = a.keys() & b.keys()\n",
    "print(common_keys)\n",
    "\n",
    "# Difference (keys in a but not in b)\n",
    "diff_keys = a.keys() - b.keys()\n",
    "print(diff_keys)\n",
    "\n",
    "# Union (all keys)\n",
    "all_keys = a.keys() | b.keys()\n",
    "print(all_keys) "
   ]
  },
  {
   "cell_type": "markdown",
   "metadata": {},
   "source": [
    "## <a id='toc1_8_'></a>[Removing Items from a Dictionary](#toc0_)"
   ]
  },
  {
   "cell_type": "markdown",
   "metadata": {},
   "source": [
    "### <a id='toc1_8_1_'></a>[Removing a Key and Value Pair by Mentioning a Key](#toc0_)\n",
    "Purpose: Removes the item with key and returns its value. If key is not found, it returns `default` if provided; otherwise, it raises a `KeyError`. It is done with `pop()` method. "
   ]
  },
  {
   "cell_type": "code",
   "execution_count": 22,
   "metadata": {},
   "outputs": [
    {
     "name": "stdout",
     "output_type": "stream",
     "text": [
      "Removed value = 1\n",
      "{'b': 2}\n"
     ]
    }
   ],
   "source": [
    "my_dict = {'a': 1, 'b': 2}\n",
    "\n",
    "value = my_dict.pop('a')  # returns only removed value\n",
    "print(f'Removed value = {value}')\n",
    "\n",
    "print(my_dict)\n",
    "\n"
   ]
  },
  {
   "cell_type": "markdown",
   "metadata": {},
   "source": [
    "### <a id='toc1_8_2_'></a>[Removing the Last Added Key and Value Pair](#toc0_)\n",
    "Removes and returns an arbitrary (key, value) pair from the dictionary as a tuple. If the dictionary is empty, it raises a `KeyError`. It is done with `popitem()` method. "
   ]
  },
  {
   "cell_type": "code",
   "execution_count": 23,
   "metadata": {},
   "outputs": [
    {
     "name": "stdout",
     "output_type": "stream",
     "text": [
      "Removed pair = ('b', 2)\n",
      "{'a': 1}\n"
     ]
    }
   ],
   "source": [
    "my_dict = {'a': 1, 'b': 2}\n",
    "\n",
    "item = my_dict.popitem() # returns key and value pair that was just removed\n",
    "print(f'Removed pair = {item}')\n",
    "\n",
    "print(my_dict)  "
   ]
  },
  {
   "cell_type": "markdown",
   "metadata": {},
   "source": [
    "### <a id='toc1_8_3_'></a>[Removing all the Elements of a Dictionary](#toc0_)"
   ]
  },
  {
   "cell_type": "code",
   "execution_count": 24,
   "metadata": {},
   "outputs": [
    {
     "name": "stdout",
     "output_type": "stream",
     "text": [
      "{}\n"
     ]
    }
   ],
   "source": [
    "my_dict = {'a': 1, 'b': 2, 'c': 3}\n",
    "\n",
    "my_dict.clear()\n",
    "\n",
    "print(my_dict)"
   ]
  },
  {
   "cell_type": "markdown",
   "metadata": {},
   "source": [
    "## <a id='toc1_9_'></a>[Reversing the Contents of a Dictionary (Key to Value and Vice Versa)](#toc0_)"
   ]
  },
  {
   "cell_type": "code",
   "execution_count": 25,
   "metadata": {},
   "outputs": [
    {
     "name": "stdout",
     "output_type": "stream",
     "text": [
      "{'stu_name': 'first_student', 'program': 'BSCS', 'CGPA': 4.0}\n",
      "{'first_student': 'stu_name', 'BSCS': 'program', 4.0: 'CGPA'}\n"
     ]
    }
   ],
   "source": [
    "print(b_dictionary)\n",
    "\n",
    "# reversing \n",
    "my_dict = {value : key for key, value in b_dictionary.items()} # using dictionary comprehension\n",
    "print(my_dict)\n"
   ]
  },
  {
   "cell_type": "markdown",
   "metadata": {},
   "source": [
    "## <a id='toc1_10_'></a>[Nested Dictionaries / Dictionaries inside Dictionaries](#toc0_)\n",
    "### <a id='toc1_10_1_'></a>[Defining a Nested Dictionary](#toc0_)"
   ]
  },
  {
   "cell_type": "code",
   "execution_count": 26,
   "metadata": {},
   "outputs": [
    {
     "name": "stdout",
     "output_type": "stream",
     "text": [
      "{'New York': {'population': 8419000, 'area': 468.9}, 'Los Angeles': {'population': 3980000, 'area': 503}, 'Chicago': {'population': 2716000, 'area': 234}}\n"
     ]
    }
   ],
   "source": [
    "cities = {\n",
    "    'New York': {\n",
    "        'population': 8419000,\n",
    "        'area': 468.9  # in square miles\n",
    "    },\n",
    "    'Los Angeles': {\n",
    "        'population': 3980000,\n",
    "        'area': 503  # in square miles\n",
    "    },\n",
    "    'Chicago': {\n",
    "        'population': 2716000,\n",
    "        'area': 234  # in square miles\n",
    "    }\n",
    "}\n",
    "\n",
    "print(cities)"
   ]
  },
  {
   "cell_type": "markdown",
   "metadata": {},
   "source": [
    "### <a id='toc1_10_2_'></a>[Accessing Elements of a Nested Dictionary](#toc0_)"
   ]
  },
  {
   "cell_type": "code",
   "execution_count": 27,
   "metadata": {},
   "outputs": [
    {
     "name": "stdout",
     "output_type": "stream",
     "text": [
      "Population of Los Angeles is : 3980000\n"
     ]
    }
   ],
   "source": [
    "# population of Los Angeles\n",
    "population = cities['Los Angeles']['population']\n",
    "print(f'Population of Los Angeles is : {population}')"
   ]
  },
  {
   "cell_type": "markdown",
   "metadata": {},
   "source": [
    "### <a id='toc1_10_3_'></a>[Adding New Elements in Nested Dictionary](#toc0_)"
   ]
  },
  {
   "cell_type": "code",
   "execution_count": 28,
   "metadata": {},
   "outputs": [
    {
     "name": "stdout",
     "output_type": "stream",
     "text": [
      "{'population': 3980000, 'area': 503, 'New Key': 'Practice'}\n"
     ]
    }
   ],
   "source": [
    "cities['Los Angeles']['New Key'] = 'Practice'\n",
    "\n",
    "print(cities['Los Angeles'])"
   ]
  },
  {
   "cell_type": "markdown",
   "metadata": {},
   "source": [
    "### <a id='toc1_10_4_'></a>[Looping through a Nested Dictionary](#toc0_)"
   ]
  },
  {
   "cell_type": "code",
   "execution_count": 29,
   "metadata": {},
   "outputs": [
    {
     "name": "stdout",
     "output_type": "stream",
     "text": [
      "New York : {'population': 8419000, 'area': 468.9}\n",
      "Los Angeles : {'population': 3980000, 'area': 503, 'New Key': 'Practice'}\n",
      "Chicago : {'population': 2716000, 'area': 234}\n"
     ]
    }
   ],
   "source": [
    "for city, info in cities.items():\n",
    "    print(f\"{city} : {info}\")"
   ]
  },
  {
   "cell_type": "code",
   "execution_count": 30,
   "metadata": {},
   "outputs": [
    {
     "name": "stdout",
     "output_type": "stream",
     "text": [
      "For New York, we have the following information available.\n",
      "population , 8419000\n",
      "area , 468.9\n",
      "________\n",
      "For Los Angeles, we have the following information available.\n",
      "population , 3980000\n",
      "area , 503\n",
      "New Key , Practice\n",
      "________\n",
      "For Chicago, we have the following information available.\n",
      "population , 2716000\n",
      "area , 234\n",
      "________\n"
     ]
    }
   ],
   "source": [
    "for city, info in cities.items(): # here cities is the main dictionary \n",
    "    print(f\"For {city}, we have the following information available.\")\n",
    "\n",
    "    for key, value in info.items(): # .items\n",
    "        print(f\"{key} , {value}\")\n",
    "\n",
    "    print(\"________\")\n"
   ]
  }
 ],
 "metadata": {
  "kernelspec": {
   "display_name": "base",
   "language": "python",
   "name": "python3"
  },
  "language_info": {
   "codemirror_mode": {
    "name": "ipython",
    "version": 3
   },
   "file_extension": ".py",
   "mimetype": "text/x-python",
   "name": "python",
   "nbconvert_exporter": "python",
   "pygments_lexer": "ipython3",
   "version": "3.11.5"
  }
 },
 "nbformat": 4,
 "nbformat_minor": 2
}
