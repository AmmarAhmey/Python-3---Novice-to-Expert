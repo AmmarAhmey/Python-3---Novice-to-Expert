{
 "cells": [
  {
   "cell_type": "markdown",
   "metadata": {},
   "source": [
    "<h1 align = center>File Input Output Operations in Python</h1>"
   ]
  },
  {
   "cell_type": "markdown",
   "metadata": {},
   "source": [
    "## <a id='toc1_1_'></a>[Opening Files](#toc0_)"
   ]
  },
  {
   "cell_type": "markdown",
   "metadata": {},
   "source": [
    "**Table of contents**<a id='toc0_'></a>    \n",
    "- [Opening Files](#toc1_1_)    \n",
    "    - [Opening Files with Manual File Closing Procedure](#toc1_1_1_)    \n",
    "    - [Opening Files with Automatic FIle Closing Procedure](#toc1_1_2_)    \n",
    "  - [Reading Files](#toc1_2_)    \n",
    "    - [Reading the Whole File](#toc1_2_1_)    \n",
    "      - [Reading The File up-to Some Character Length](#toc1_2_1_1_)    \n",
    "    - [Reding The File One Line at a Time](#toc1_2_2_)    \n",
    "      - [Reading The File One Line at a Time but up-to Some Character Length](#toc1_2_2_1_)    \n",
    "    - [Reading the Whole File as a List of Lines](#toc1_2_3_)    \n",
    "      - [Reading the Whole File as a List of Lines up-to Some Character Length](#toc1_2_3_1_)    \n",
    "  - [Writing to Files](#toc1_3_)    \n",
    "    - [Creating a New File](#toc1_3_1_)    \n",
    "    - [Writing to a File by Overwriting its Content](#toc1_3_2_)    \n",
    "    - [Writing to a File by Inserting At the End, Instead of Overwriting](#toc1_3_3_)    \n",
    "    - [Preventing Duplicate File Generate using the `'x'` Mode](#toc1_3_4_)    \n",
    "  - [Reading and Writing Pointer Positioning in a Opened File](#toc1_4_)    \n",
    "    - [Finding the Current Position of Reading/Writing Pointer](#toc1_4_1_)    \n",
    "    - [Moving the Pointer](#toc1_4_2_)    \n",
    "  - [Saving File Contents Immediately](#toc1_5_)    \n",
    "  - [Adjusting/Truncating the File Size](#toc1_6_)    \n",
    "\n",
    "<!-- vscode-jupyter-toc-config\n",
    "\tnumbering=false\n",
    "\tanchor=true\n",
    "\tflat=false\n",
    "\tminLevel=1\n",
    "\tmaxLevel=6\n",
    "\t/vscode-jupyter-toc-config -->\n",
    "<!-- THIS CELL WILL BE REPLACED ON TOC UPDATE. DO NOT WRITE YOUR TEXT IN THIS CELL -->"
   ]
  },
  {
   "cell_type": "markdown",
   "metadata": {},
   "source": [
    "### <a id='toc1_1_1_'></a>[Opening Files with Manual File Closing Procedure](#toc0_)"
   ]
  },
  {
   "cell_type": "code",
   "execution_count": 1,
   "metadata": {},
   "outputs": [
    {
     "name": "stdout",
     "output_type": "stream",
     "text": [
      "Datasets/example.txt\n"
     ]
    }
   ],
   "source": [
    "# for efficient file paths generation \n",
    "import os\n",
    "file_path = os.path.join('Datasets/example.txt') # efficiently combines the file path with the current directory. \n",
    "\n",
    "print(file_path)"
   ]
  },
  {
   "cell_type": "code",
   "execution_count": 2,
   "metadata": {},
   "outputs": [
    {
     "name": "stdout",
     "output_type": "stream",
     "text": [
      "This is an example file. \n",
      "This is second line of this example file. \n",
      "This one can be taken as third line.\n",
      "This is our fourth line of text.\n"
     ]
    }
   ],
   "source": [
    "# this will open the file but we need to manually close it. \n",
    "\n",
    "file = open(file_path, 'r') # opening the file\n",
    "file_data = file.read()\n",
    "print(file_data)\n",
    "file.close() # closing the file. "
   ]
  },
  {
   "cell_type": "markdown",
   "metadata": {},
   "source": [
    "### <a id='toc1_1_2_'></a>[Opening Files with Automatic FIle Closing Procedure](#toc0_)"
   ]
  },
  {
   "cell_type": "code",
   "execution_count": 3,
   "metadata": {},
   "outputs": [
    {
     "name": "stdout",
     "output_type": "stream",
     "text": [
      "This is an example file. \n",
      "This is second line of this example file. \n",
      "This one can be taken as third line.\n",
      "This is our fourth line of text.\n"
     ]
    }
   ],
   "source": [
    "'''\n",
    "This is achieved using the with keyword.\n",
    "This method does not required manual file closing statement.\n",
    "'''\n",
    "\n",
    "with open(file_path, 'r') as file:\n",
    "    file_data = file.read()\n",
    "    print(file_data)"
   ]
  },
  {
   "cell_type": "markdown",
   "metadata": {},
   "source": [
    "## <a id='toc1_2_'></a>[Reading Files](#toc0_)\n",
    "In file reading procedure, there are 3 main things:\n",
    "1. The file must exist before opening. \n",
    "2. The file opening mode:\n",
    "    The file opening mode is passed as 2nd argument to the `open()` method. Our provided value for the file opening mode should state that we want to perform a `read` operation. There are following reading modes available in python. \n",
    "\n",
    "    1. `'r'` : Read-only mode for text files. `open(file_path, 'r')`\n",
    "    2. `'rb'` : Read-only mode for binary files. `open(file_path, 'rb')`\n",
    "    3. `'r+'` : Read and write mode for text files. `open(file_path, 'r+')`\n",
    "    4. `'rb+'` : Read and write mode for binary files. `open(file_path, 'rb+')`\n",
    " 3. How much file do we want to read?\n",
    "    1. `read()`: Best for reading the entire file content at once, or a specific number of bytes/characters. \n",
    "    2. `readline()`: Ideal for reading one line at a time, which is useful for processing large files line by line.\n",
    "    3. `readlines()`: Useful when you want to load all lines into a list for easy processing, but be cautious with large files as it loads the entire file into memory."
   ]
  },
  {
   "cell_type": "markdown",
   "metadata": {},
   "source": [
    "### <a id='toc1_2_1_'></a>[Reading the Whole File](#toc0_)"
   ]
  },
  {
   "cell_type": "code",
   "execution_count": 4,
   "metadata": {},
   "outputs": [
    {
     "name": "stdout",
     "output_type": "stream",
     "text": [
      "This is an example file. \n",
      "This is second line of this example file. \n",
      "This one can be taken as third line.\n",
      "This is our fourth line of text.\n"
     ]
    }
   ],
   "source": [
    "opening_mode = 'r'\n",
    "\n",
    "with open(file_path, opening_mode) as file: # opening file in a auto close mode, with opening mode set to 'reading'\n",
    "    content = file.read() # reading the complete file using `read()`\n",
    "    \n",
    "    print(content)"
   ]
  },
  {
   "cell_type": "markdown",
   "metadata": {},
   "source": [
    "#### <a id='toc1_2_1_1_'></a>[Reading The File up-to Some Character Length](#toc0_)"
   ]
  },
  {
   "cell_type": "code",
   "execution_count": 5,
   "metadata": {},
   "outputs": [
    {
     "name": "stdout",
     "output_type": "stream",
     "text": [
      "This is an example f\n"
     ]
    }
   ],
   "source": [
    "opening_mode = 'r'\n",
    "\n",
    "with open(file_path, opening_mode) as file: \n",
    "    content = file.read(20 ) # reading only first 20 characters/bytes of the file. \n",
    "    \n",
    "    print(content)"
   ]
  },
  {
   "cell_type": "markdown",
   "metadata": {},
   "source": [
    "### <a id='toc1_2_2_'></a>[Reding The File One Line at a Time](#toc0_)"
   ]
  },
  {
   "cell_type": "code",
   "execution_count": 6,
   "metadata": {},
   "outputs": [
    {
     "name": "stdout",
     "output_type": "stream",
     "text": [
      "This is an example file. \n",
      "\n",
      "This is second line of this example file. \n",
      "\n"
     ]
    }
   ],
   "source": [
    "opening_mode = 'r'\n",
    "\n",
    "with open(file_path, opening_mode) as file: \n",
    "    \n",
    "    content = file.readline() # reading the file line by line\n",
    "    print(content)\n",
    "\n",
    "    content = file.readline() # reading the file line by line\n",
    "    print(content)"
   ]
  },
  {
   "cell_type": "markdown",
   "metadata": {},
   "source": [
    "#### <a id='toc1_2_2_1_'></a>[Reading The File One Line at a Time but up-to Some Character Length](#toc0_)"
   ]
  },
  {
   "cell_type": "code",
   "execution_count": 7,
   "metadata": {},
   "outputs": [
    {
     "name": "stdout",
     "output_type": "stream",
     "text": [
      "This is an example file. \n",
      "\n",
      "This is second \n"
     ]
    }
   ],
   "source": [
    "opening_mode = 'r'\n",
    "\n",
    "with open(file_path, opening_mode) as file: \n",
    "    \n",
    "    content = file.readline() # this will read the complete line.\n",
    "    print(content)\n",
    "\n",
    "    content = file.readline(15) # this will read the next line upto 20 characters only. Remember the pointer is now moved to second line. after reading the first line.\n",
    "    print(content)\n"
   ]
  },
  {
   "cell_type": "markdown",
   "metadata": {},
   "source": [
    "### <a id='toc1_2_3_'></a>[Reading the Whole File as a List of Lines](#toc0_)"
   ]
  },
  {
   "cell_type": "code",
   "execution_count": 8,
   "metadata": {},
   "outputs": [
    {
     "name": "stdout",
     "output_type": "stream",
     "text": [
      "Type of the file content received : <class 'list'>\n",
      "Length of this list is equal to total lines in our file which is : 4\n",
      "The file contents are as follows : ['This is an example file. \\n', 'This is second line of this example file. \\n', 'This one can be taken as third line.\\n', 'This is our fourth line of text.']\n",
      "Or we can print it as : \n",
      " _______________\n",
      "This is an example file. \n",
      "\n",
      "This is second line of this example file. \n",
      "\n",
      "This one can be taken as third line.\n",
      "\n",
      "This is our fourth line of text.\n"
     ]
    }
   ],
   "source": [
    "with open(file_path, opening_mode) as file:\n",
    "    content = file.readlines()\n",
    "    \n",
    "    print(f'Type of the file content received : {type(content)}')\n",
    "    print(f'Length of this list is equal to total lines in our file which is : {len(content)}')\n",
    "    print(f'The file contents are as follows : {content}')\n",
    "\n",
    "    print('Or we can print it as : \\n _______________')\n",
    "\n",
    "    for line in content:\n",
    "        print(line)\n"
   ]
  },
  {
   "cell_type": "markdown",
   "metadata": {},
   "source": [
    "#### <a id='toc1_2_3_1_'></a>[Reading the Whole File as a List of Lines up-to Some Character Length](#toc0_)"
   ]
  },
  {
   "cell_type": "code",
   "execution_count": 9,
   "metadata": {},
   "outputs": [
    {
     "name": "stdout",
     "output_type": "stream",
     "text": [
      "This is an example file. \n",
      "\n",
      "This is second line of this example file. \n",
      "\n"
     ]
    }
   ],
   "source": [
    "with open(file_path, opening_mode) as file:\n",
    "    content = file.readlines(30)\n",
    "\n",
    "    for line in content:\n",
    "        print(line)"
   ]
  },
  {
   "cell_type": "markdown",
   "metadata": {},
   "source": [
    "## <a id='toc1_3_'></a>[Writing to Files](#toc0_)"
   ]
  },
  {
   "cell_type": "markdown",
   "metadata": {},
   "source": [
    "Important Points regarding writing to files:\n",
    "1. Unlike file reading, the file may or may not exist before performing writing operation. If the file already exists, python with make changes to that file and if no file with the given name exists, a new file will be created. This is true for all write operations except the `'x'` file opening mode. \n",
    "2. The file opening mode:\n",
    "    The file opening mode is passed as 2nd argument to the `open()` method. Our provided value for the file opening mode should state that we want to perform a `write` operation. There are following writing modes available in python. \n",
    "\n",
    "   1. `'w'` (Write Mode): `open(file_path, 'w')`\n",
    "      - Opens the file for writing.\n",
    "      - Creates a new file if it doesn’t exist.\n",
    "      - Truncates the file if it exists (deletes its content).\n",
    "   2. `'a'` (Append Mode): `open(file_path, 'a')`\n",
    "      - Opens the file for appending.\n",
    "      - Creates a new file if it doesn’t exist.\n",
    "      - Writes data at the end of the file, preserving existing content.\n",
    "   3. `'x'` (Exclusive Creation Mode): `open(file_path, 'x')`\n",
    "      - If the file does not exist, it is created, and you can write to it.\n",
    "      - If the file already exists, a FileExistsError is raised, preventing the file from being overwritten.\n",
    "      - When to Use: \n",
    "        - Use `'x'` mode when you want to create a new file but want to avoid accidentally overwriting an existing one. \n",
    "        - This mode is particularly useful in situations where file integrity is crucial, such as when generating reports or logs where you want to ensure each run creates a unique file.\n",
    "\n",
    " 3. How do we want to perform our write operation?\n",
    "    1. `write()` : Writes a string to the file.\n",
    "    2. `writelines(a_list_of_lines)`: Writes a list of strings to the file. Each string in the list is written as a line. Unlike `write()`, `writelines()` does not add a newline character (\\n) after each string; you need to include it manually if needed."
   ]
  },
  {
   "cell_type": "markdown",
   "metadata": {},
   "source": [
    "### <a id='toc1_3_1_'></a>[Creating a New File](#toc0_)"
   ]
  },
  {
   "cell_type": "code",
   "execution_count": 10,
   "metadata": {},
   "outputs": [
    {
     "name": "stdout",
     "output_type": "stream",
     "text": [
      "This is our first line \n",
      "This is our second line\n"
     ]
    }
   ],
   "source": [
    "# creating a demo file \n",
    "with open('Datasets/demo.txt', 'w') as file:\n",
    "    file.write('This is our first line \\n')\n",
    "    file.write('This is our second line')\n",
    "\n",
    "# reading newly created file\n",
    "with open('Datasets/demo.txt') as file:\n",
    "    content = file.read()\n",
    "    print(content)"
   ]
  },
  {
   "cell_type": "code",
   "execution_count": 11,
   "metadata": {},
   "outputs": [],
   "source": [
    "# defining a file read method for cleaner code. \n",
    "\n",
    "def read_my_file(file_name):\n",
    "    with open(file_name, 'r') as file:\n",
    "        content = file.read()\n",
    "        print(content)\n",
    "    print('____________________')"
   ]
  },
  {
   "cell_type": "markdown",
   "metadata": {},
   "source": [
    "### <a id='toc1_3_2_'></a>[Writing to a File by Overwriting its Content](#toc0_)"
   ]
  },
  {
   "cell_type": "code",
   "execution_count": 12,
   "metadata": {},
   "outputs": [
    {
     "name": "stdout",
     "output_type": "stream",
     "text": [
      "This is our first line \n",
      "This is our second line\n",
      "____________________\n",
      "This is changed content\n",
      "____________________\n"
     ]
    }
   ],
   "source": [
    "# using the 'w' file opening mode will allow us to overwrite the contents of the opened file. \n",
    "\n",
    "read_my_file('Datasets/demo.txt') # the previous contents of the file\n",
    "    \n",
    "\n",
    "with open('Datasets/demo.txt', 'w') as file: # overwriting the contents of the file\n",
    "    file.write('This is changed content')\n",
    "\n",
    "\n",
    "read_my_file('Datasets/demo.txt') # reading the modified file now"
   ]
  },
  {
   "cell_type": "markdown",
   "metadata": {},
   "source": [
    "### <a id='toc1_3_3_'></a>[Writing to a File by Inserting At the End, Instead of Overwriting](#toc0_)"
   ]
  },
  {
   "cell_type": "code",
   "execution_count": 13,
   "metadata": {},
   "outputs": [
    {
     "name": "stdout",
     "output_type": "stream",
     "text": [
      "This is changed content\n",
      "____________________\n",
      "This is changed content\n",
      "This is second line of text\n",
      "This is third line of text\n",
      "____________________\n"
     ]
    }
   ],
   "source": [
    "read_my_file('Datasets/demo.txt') # the current file content \n",
    "\n",
    "with open('Datasets/demo.txt', 'a') as file: # 'a' refers to the append mode, that allows inserting new content at the end\n",
    "    file.write('\\nThis is second line of text')\n",
    "    file.write('\\nThis is third line of text')\n",
    "\n",
    "read_my_file('Datasets/demo.txt') # reading the modified file now\n",
    "    "
   ]
  },
  {
   "cell_type": "markdown",
   "metadata": {},
   "source": [
    "### <a id='toc1_3_4_'></a>[Preventing Duplicate File Generate using the `'x'` Mode](#toc0_)"
   ]
  },
  {
   "cell_type": "code",
   "execution_count": 14,
   "metadata": {},
   "outputs": [
    {
     "name": "stdout",
     "output_type": "stream",
     "text": [
      "File already exists!\n"
     ]
    }
   ],
   "source": [
    "try:\n",
    "    with open('Datasets/demo.txt', 'x') as file: # the 'x' mode will check and only create new file if no file with the same name already exists. \n",
    "        file.write('This is a new file.')\n",
    "except FileExistsError:\n",
    "    print('File already exists!')"
   ]
  },
  {
   "cell_type": "markdown",
   "metadata": {},
   "source": [
    "## <a id='toc1_4_'></a>[Reading and Writing Pointer Positioning in a Opened File](#toc0_)\n",
    "- One a file is open, the read/write pointer is at the very first character/byte of our file. When we perform a read/write operation, the pointer moves to a new position with respect to the written or read characters. \n",
    "- If the we perform a read/write operation once again on the same opened file, the operating will not start from the beginning but from the current position. "
   ]
  },
  {
   "cell_type": "markdown",
   "metadata": {},
   "source": [
    "### <a id='toc1_4_1_'></a>[Finding the Current Position of Reading/Writing Pointer](#toc0_)\n",
    "This is performed using the `tell()` method of `file` object returned by the `open()` method. "
   ]
  },
  {
   "cell_type": "code",
   "execution_count": 15,
   "metadata": {},
   "outputs": [
    {
     "name": "stdout",
     "output_type": "stream",
     "text": [
      "Current position of the pointer is : 0\n",
      "This is an example file. \n",
      "\n",
      "Current position of the pointer is : 27\n"
     ]
    }
   ],
   "source": [
    "with open('Datasets/example.txt', 'r') as file:\n",
    "    position = file.tell()\n",
    "    print(f'Current position of the pointer is : {position}')\n",
    "    \n",
    "    line = file.readline()\n",
    "    print(line)\n",
    "\n",
    "    position = file.tell()\n",
    "    print(f'Current position of the pointer is : {position}')\n",
    "    "
   ]
  },
  {
   "cell_type": "markdown",
   "metadata": {},
   "source": [
    "### <a id='toc1_4_2_'></a>[Moving the Pointer](#toc0_)"
   ]
  },
  {
   "cell_type": "code",
   "execution_count": 16,
   "metadata": {},
   "outputs": [
    {
     "name": "stdout",
     "output_type": "stream",
     "text": [
      "Current position of the pointer is : 0\n",
      "This is an example file. \n",
      "\n",
      "Current position of the pointer is : 27\n",
      "Changed position with seek() is : 4\n"
     ]
    }
   ],
   "source": [
    "with open('Datasets/example.txt', 'r') as file:\n",
    "    # pointer position at the start\n",
    "    position = file.tell()\n",
    "    print(f'Current position of the pointer is : {position}')\n",
    "    \n",
    "    # reading a line from our file\n",
    "    line = file.readline()\n",
    "    print(line)\n",
    "\n",
    "    # new position after reading a line\n",
    "    position = file.tell()\n",
    "    print(f'Current position of the pointer is : {position}')\n",
    "\n",
    "    # changing the position \n",
    "    file.seek(4, 0)\n",
    "    position = file.tell()\n",
    "    print(f'Changed position with seek() is : {position}')\n"
   ]
  },
  {
   "cell_type": "markdown",
   "metadata": {},
   "source": [
    "__A Note on `seek()` Method__\n",
    "\n",
    "`seek(offset, whence=0)`\n",
    "- __Purpose__: Moves the file pointer to a new position within the file. The offset specifies the number of bytes to move, and whence determines the reference point for the offset.\n",
    "- __Parameters__: \n",
    "  - `offset`: The number of bytes to move the pointer.\n",
    "  - `whence`: The reference point for the offset. It can be:\n",
    "    - 0 (default): The start of the file.\n",
    "    - 1: The current position. (Only works if the file is open in binary mode i.e., `'rb'`)\n",
    "    - 2: The end of the file. (Only works if the file is open in binary mode i.e., `'rb'`)\n",
    "- Once the pointer has been moved to our desired position we can perform any required operation i.e., reading or writing. "
   ]
  },
  {
   "cell_type": "code",
   "execution_count": 17,
   "metadata": {},
   "outputs": [
    {
     "data": {
      "text/plain": [
       "'blueprint of pointer movement\\n\\nfile_object.seek(How_many_characters_to_move, starting_point_of_movement)\\n\\n'"
      ]
     },
     "execution_count": 17,
     "metadata": {},
     "output_type": "execute_result"
    }
   ],
   "source": [
    "'''blueprint of pointer movement\n",
    "\n",
    "file_object.seek(How_many_characters_to_move, starting_point_of_movement)\n",
    "\n",
    "'''"
   ]
  },
  {
   "cell_type": "code",
   "execution_count": 18,
   "metadata": {},
   "outputs": [
    {
     "name": "stdout",
     "output_type": "stream",
     "text": [
      "Current Position : 0\n",
      "Current Position : 5\n",
      "Current Position : 10\n",
      "Current Position : 146\n"
     ]
    }
   ],
   "source": [
    "with open('datasets/example.txt', 'rb') as file:\n",
    "    print(f'Current Position : {file.tell()}')\n",
    "\n",
    "    '''\n",
    "    Task 1: Move 5 characters/bytes forward from the beginning of the line\n",
    "    1st argument: How many characters to move the cursor. \n",
    "    2nd argument: From where to start counting characters to move\n",
    "    '''\n",
    "    file.seek(5, 0)\n",
    "    print(f'Current Position : {file.tell()}')\n",
    "    \n",
    "    '''    \n",
    "    Task 2: Move 5 characters/bytes forward from current position. \n",
    "    Only works if the file is open in some type of binary mode. current is 'rb'.\n",
    "    '''\n",
    "    file.seek(5, 1)\n",
    "    print(f'Current Position : {file.tell()}')\n",
    "\n",
    "    '''    \n",
    "    Task 3: Move 5 characters/bytes forward from the end of file.\n",
    "    Only works if the file is open in some type of binary mode. current is 'rb'.\n",
    "    '''\n",
    "    file.seek(5, 2)\n",
    "    print(f'Current Position : {file.tell()}')"
   ]
  },
  {
   "cell_type": "markdown",
   "metadata": {},
   "source": [
    "## <a id='toc1_5_'></a>[Saving File Contents Immediately](#toc0_)\n",
    "This is useful when we need to ensure that data is saved immediately. Achieved via `flush()` method of `file object`. "
   ]
  },
  {
   "cell_type": "code",
   "execution_count": 19,
   "metadata": {},
   "outputs": [
    {
     "name": "stdout",
     "output_type": "stream",
     "text": [
      "This is an example file. \n",
      "This is second line of this example file. \n",
      "This one can be taken as third line.\n",
      "This is our fourth line of text.\n",
      "This is our fourth line of text.\n"
     ]
    }
   ],
   "source": [
    "# appending some data to existing file. \n",
    "with open('datasets/example.txt', 'a') as file:\n",
    "    file.write('\\nThis is our fourth line of text.')\n",
    "    file.flush()\n",
    "\n",
    "# reading updated file\n",
    "with open('datasets/example.txt', 'r') as file:\n",
    "    print(file.read())"
   ]
  },
  {
   "cell_type": "markdown",
   "metadata": {},
   "source": [
    "## <a id='toc1_6_'></a>[Adjusting/Truncating the File Size](#toc0_)\n",
    "With `truncate()` method of `file object` we can truncate/adjust the file size as per our requirement. \n",
    "- It cuts off the file or adds extra null values to meet our size requirements. \n",
    "- If we do not provide any argument, this method will remove the data beyond current pointer, which is beginning of the file. Hence all the content will be wiped out. If we have set to pointer to some other position using `seek()`, if will cut of the data beyond that point.\n",
    "- If we provide a size of file as an argument, but its less than the total size of the file, this method will remove the content after the provided size. \n",
    "- If we provide a size larger than the file's current size, the remaining space after the file content will be filled with null bytes to meed the required file size. "
   ]
  },
  {
   "cell_type": "code",
   "execution_count": 20,
   "metadata": {},
   "outputs": [
    {
     "name": "stdout",
     "output_type": "stream",
     "text": [
      "This is an example file.\n",
      "____________________\n"
     ]
    }
   ],
   "source": [
    "# opening the file\n",
    "read_my_file('datasets/example2.txt')\n",
    "\n",
    "with open('datasets/example2.txt', 'a+') as file: # file opened in reading and writing mode with appending condition. \n",
    "    file.truncate(100)      # increasing the file size\n",
    "\n",
    "# see the actual file for the output / filled null values "
   ]
  },
  {
   "cell_type": "code",
   "execution_count": 21,
   "metadata": {},
   "outputs": [
    {
     "name": "stdout",
     "output_type": "stream",
     "text": [
      "This is an example file.\n",
      "____________________\n"
     ]
    }
   ],
   "source": [
    "with open('datasets/example2.txt', 'a+') as file: # file opened in reading and writing mode with appending condition. \n",
    "    file.seek(24)\n",
    "    file.truncate()      # truncating beyond current position. \n",
    "\n",
    "read_my_file('datasets/example2.txt')"
   ]
  }
 ],
 "metadata": {
  "kernelspec": {
   "display_name": "base",
   "language": "python",
   "name": "python3"
  },
  "language_info": {
   "codemirror_mode": {
    "name": "ipython",
    "version": 3
   },
   "file_extension": ".py",
   "mimetype": "text/x-python",
   "name": "python",
   "nbconvert_exporter": "python",
   "pygments_lexer": "ipython3",
   "version": "3.12.4"
  }
 },
 "nbformat": 4,
 "nbformat_minor": 2
}
