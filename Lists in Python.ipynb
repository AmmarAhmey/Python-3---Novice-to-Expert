{
 "cells": [
  {
   "cell_type": "markdown",
   "metadata": {},
   "source": [
    "# Python Lists"
   ]
  },
  {
   "cell_type": "code",
   "execution_count": 25,
   "metadata": {},
   "outputs": [
    {
     "name": "stdout",
     "output_type": "stream",
     "text": [
      "['A', 'B', 'C', 'D', 10, 20, 30, 40]\n"
     ]
    }
   ],
   "source": [
    "# creating a list in python \n",
    "\n",
    "mylist = ['A', 'B', 'C', 'D', 10, 20, 30, 40,]\n",
    "print(mylist)"
   ]
  },
  {
   "cell_type": "code",
   "execution_count": 26,
   "metadata": {},
   "outputs": [
    {
     "data": {
      "text/plain": [
       "20"
      ]
     },
     "execution_count": 26,
     "metadata": {},
     "output_type": "execute_result"
    }
   ],
   "source": [
    "# accessing list elements \n",
    "\n",
    "mylist[5]"
   ]
  },
  {
   "cell_type": "code",
   "execution_count": 27,
   "metadata": {},
   "outputs": [
    {
     "data": {
      "text/plain": [
       "['C', 'D']"
      ]
     },
     "execution_count": 27,
     "metadata": {},
     "output_type": "execute_result"
    }
   ],
   "source": [
    "# first index element in included but the last one is not included.\n",
    "mylist[2:4]"
   ]
  },
  {
   "cell_type": "code",
   "execution_count": 28,
   "metadata": {},
   "outputs": [
    {
     "name": "stdout",
     "output_type": "stream",
     "text": [
      "40\n",
      "20\n",
      "[20, 30]\n"
     ]
    }
   ],
   "source": [
    "# reverse index of a list\n",
    "print(mylist[-1])\n",
    "print(mylist[-3])\n",
    "\n",
    "# the starting point should be written in the beginning and the ending point at the end, even in the case of reverse indexes. \n",
    "print(mylist[-3:-1]) "
   ]
  },
  {
   "cell_type": "code",
   "execution_count": 29,
   "metadata": {},
   "outputs": [
    {
     "name": "stdout",
     "output_type": "stream",
     "text": [
      "['A', 'B', 'C', 'D', 10, 20, 30, 40, 50]\n",
      "['A', 'Z', 'B', 'C', 'D', 10, 20, 30, 40, 50]\n"
     ]
    }
   ],
   "source": [
    "# adding elements into a list\n",
    "\n",
    "# at the end of the list\n",
    "mylist.append(50)\n",
    "print(mylist)\n",
    "\n",
    "# at a specific index\n",
    "mylist.insert(1, \"Z\")\n",
    "print(mylist)\n"
   ]
  },
  {
   "cell_type": "code",
   "execution_count": 30,
   "metadata": {},
   "outputs": [
    {
     "name": "stdout",
     "output_type": "stream",
     "text": [
      "['A', 'Z', 'B', 'C', 'D', 10, 20, 30, 40, 50, 'Z', 'X', 'C', 'V', 'B', 'N', 'M']\n"
     ]
    }
   ],
   "source": [
    "# combining two lists\n",
    "anotherList = ['Z', 'X', 'C', 'V', 'B', 'N', 'M']\n",
    "\n",
    "mylist.extend(anotherList)\n",
    "print(mylist)"
   ]
  },
  {
   "cell_type": "code",
   "execution_count": 31,
   "metadata": {},
   "outputs": [
    {
     "name": "stdout",
     "output_type": "stream",
     "text": [
      "17\n"
     ]
    }
   ],
   "source": [
    "# counting number of elements in a list / length of a list\n",
    "length = len(mylist)\n",
    "\n",
    "print(length)"
   ]
  },
  {
   "cell_type": "code",
   "execution_count": 32,
   "metadata": {},
   "outputs": [
    {
     "name": "stdout",
     "output_type": "stream",
     "text": [
      "there are 2 occurences of Z\n"
     ]
    }
   ],
   "source": [
    "# counting how many times a specific elements is present in our list.\n",
    "Z = mylist.count(\"Z\")\n",
    "print(\"there are \" + str(Z) + \" occurences of Z\")"
   ]
  },
  {
   "cell_type": "code",
   "execution_count": 33,
   "metadata": {},
   "outputs": [
    {
     "name": "stdout",
     "output_type": "stream",
     "text": [
      "['A', 'Z', 'B', 'C', 'D', 10, 20, 30, 40, 50, 'Z', 'X', 'C', 'V', 'B', 'N', 'M']\n",
      "['A', 'Z', 'B', 'C', 'D', 10, 20, 30, 40, 50, 'Z', 'X', 'C', 'V', 'B', 'N', 'M']\n",
      " \n",
      "printing new lists \n",
      "\n",
      "['A', 'Z', 'B', 'C', 'D', 10, 20, 30, 40, 50, 'Z', 'X', 'C', 'V', 'B', 'N', 'M', 'Hurrah']\n",
      "['A', 'Z', 'B', 'C', 'D', 10, 20, 30, 40, 50, 'Z', 'X', 'C', 'V', 'B', 'N', 'M', 'Hurrah']\n",
      " \n",
      "YESSSSSSS\n",
      "printing new lists \n",
      "\n",
      "['A', 'Z', 'B', 'C', 'D', 10, 20, 30, 40, 50, 'Z', 'X', 'C', 'V', 'B', 'N', 'M', 'Hurrah']\n",
      "['A', 'Z', 'B', 'C', 'D', 10, 20, 30, 40, 50, 'Z', 'X', 'C', 'V', 'B', 'N', 'M', 'Hurrah']\n",
      " \n",
      " \n",
      "No bro there are not equal\n",
      "['A', 'Z', 'B', 'C', 'D', 10, 20, 30, 40, 50, 'Z', 'X', 'C', 'V', 'B', 'N', 'M', 'Hurrah', 'Yakh Pakh']\n"
     ]
    }
   ],
   "source": [
    "# making a copy of our list. \n",
    "\n",
    "# remember that, a simple assignment operation does not copies the list but only creates a pointer. \n",
    "meriList = mylist\n",
    "print(meriList)\n",
    "print(mylist)\n",
    "\n",
    "# now adding element to only one list\n",
    "print(\" \")\n",
    "mylist.append(\"Hurrah\")\n",
    "\n",
    "# printing new lists\n",
    "print('printing new lists \\n')\n",
    "print(mylist)\n",
    "print(meriList)\n",
    "\n",
    "# checking if both lists are equal?\n",
    "\n",
    "if mylist == meriList:\n",
    "    print(\" \")\n",
    "    print(\"YESSSSSSS\")\n",
    "else:\n",
    "    print(\" \")\n",
    "    print(\"No bro there are not equal\")\n",
    "\n",
    "# creating another copy of my list, properly this time. \n",
    "\n",
    "sadiList = mylist.copy()\n",
    "\n",
    "# printing new lists\n",
    "print('printing new lists \\n')\n",
    "print(mylist)\n",
    "print(sadiList)\n",
    "\n",
    "# now adding element to only one list\n",
    "print(\" \")\n",
    "sadiList.append(\"Yakh Pakh\")\n",
    "\n",
    "# checking if both lists are equal?\n",
    "\n",
    "if mylist == sadiList:\n",
    "    print(\" \")\n",
    "    print(\"YESSSSSSS\")\n",
    "else:\n",
    "    print(\" \")\n",
    "    print(\"No bro there are not equal\")\n",
    "\n",
    "print(sadiList)"
   ]
  },
  {
   "cell_type": "code",
   "execution_count": 34,
   "metadata": {},
   "outputs": [
    {
     "name": "stdout",
     "output_type": "stream",
     "text": [
      "the original list ['A', 'Z', 'B', 'C', 'D', 10, 20, 30, 40, 50, 'Z', 'X', 'C', 'V', 'B', 'N', 'M', 'Hurrah', 'Yakh Pakh']\n",
      "the modified list ['A', 'Z', 'B', 'C', 'D', 10, 20, 30, 40, 50, 'Z', 'X', 'C', 'V', 'B', 'N', 'M', 'Hurrah']\n",
      "the modified list ['A', 'Z', 'B', 'C', 'D', 10, 20, 30, 50, 'Z', 'X', 'C', 'V', 'B', 'N', 'M', 'Hurrah']\n",
      "the modified list ['A', 'Z', 'B', 'C', 'D', 10, 20, 50, 'Z', 'X', 'C', 'V', 'B', 'N', 'M', 'Hurrah']\n",
      "the modified list ['A', 'Z', 'B', 'C', 'D', 20, 50, 'Z', 'X', 'C', 'V', 'B', 'N', 'M', 'Hurrah']\n",
      "[]\n"
     ]
    }
   ],
   "source": [
    "# deleting elements from a list\n",
    "\n",
    "print(\"the original list\", sadiList)\n",
    "\n",
    "# removing element from the end\n",
    "sadiList.pop()\n",
    "print('the modified list', sadiList)\n",
    "\n",
    "# removing a specific element\n",
    "sadiList.remove(40)\n",
    "print('the modified list', sadiList)\n",
    "\n",
    "# or this can also be achieved using del() statement\n",
    "# this statement can remove a single or a range of elements\n",
    "del(sadiList[7])\n",
    "print('the modified list', sadiList)\n",
    "\n",
    "# removing from a specific index number\n",
    "sadiList.pop(5)\n",
    "print('the modified list', sadiList)\n",
    "\n",
    "# removing all elements from a list\n",
    "sadiList.clear()\n",
    "print(sadiList)"
   ]
  },
  {
   "cell_type": "code",
   "execution_count": 35,
   "metadata": {},
   "outputs": [
    {
     "name": "stdout",
     "output_type": "stream",
     "text": [
      "[24, 32, 10, 56, 40, 76, 19, 38]\n",
      "[10, 19, 24, 32, 38, 40, 56, 76]\n",
      "[76, 56, 40, 38, 32, 24, 19, 10]\n"
     ]
    }
   ],
   "source": [
    "# sorting a list\n",
    "yetAnotherList = [24, 32, 10, 56, 40, 76, 19, 38]\n",
    "\n",
    "print(yetAnotherList)\n",
    "\n",
    "# ascending\n",
    "yetAnotherList.sort()\n",
    "print(yetAnotherList)\n",
    "\n",
    "# descending\n",
    "yetAnotherList.sort(reverse=True)\n",
    "print(yetAnotherList)\n"
   ]
  },
  {
   "cell_type": "code",
   "execution_count": 36,
   "metadata": {},
   "outputs": [
    {
     "name": "stdout",
     "output_type": "stream",
     "text": [
      "[10, 19, 24, 32, 38, 40, 56, 76]\n"
     ]
    }
   ],
   "source": [
    "# descending can also be achieved using reversed()\n",
    "yetAnotherList.reverse()\n",
    "print(yetAnotherList)"
   ]
  },
  {
   "cell_type": "code",
   "execution_count": 37,
   "metadata": {},
   "outputs": [
    {
     "name": "stdout",
     "output_type": "stream",
     "text": [
      "10\n",
      "19\n",
      "24\n",
      "32\n",
      "38\n",
      "40\n",
      "56\n",
      "76\n"
     ]
    }
   ],
   "source": [
    "# looping through a list\n",
    "\n",
    "for item in yetAnotherList:\n",
    "    print(item)"
   ]
  },
  {
   "cell_type": "code",
   "execution_count": 38,
   "metadata": {},
   "outputs": [
    {
     "name": "stdout",
     "output_type": "stream",
     "text": [
      "30\n",
      "57\n",
      "72\n",
      "96\n",
      "114\n",
      "120\n",
      "168\n",
      "228\n"
     ]
    }
   ],
   "source": [
    "# doing some operation on each item of the list using loops\n",
    "\n",
    "for item in yetAnotherList:\n",
    "    item_mul = item * 3\n",
    "    print(item_mul)"
   ]
  },
  {
   "cell_type": "code",
   "execution_count": 41,
   "metadata": {},
   "outputs": [
    {
     "name": "stdout",
     "output_type": "stream",
     "text": [
      "[6, 7, 8, 9, 10]\n",
      "[6, 7, 8, 9, 10]\n",
      "[1, 2, 3, 4, 5, 6, 7, 8, 9, 10]\n",
      "[1, 2, 3, 4, 5, 6, 7, 8, 9, 10]\n"
     ]
    }
   ],
   "source": [
    "# joining two lists \n",
    "\n",
    "listOne = [1,2,3,4,5]\n",
    "listTwo = [6,7,8,9,10]\n",
    "\n",
    "print(listTwo)\n",
    "print(listTwo)\n",
    "\n",
    "# add these lists and assign to a new list variable\n",
    "listThree = listOne + listTwo\n",
    "print(listThree)\n",
    "\n",
    "# or simply extend an existed list with another list. \n",
    "listOne.extend(listTwo)\n",
    "\n",
    "print(listOne)"
   ]
  },
  {
   "cell_type": "code",
   "execution_count": 46,
   "metadata": {},
   "outputs": [
    {
     "name": "stdout",
     "output_type": "stream",
     "text": [
      "[[1, 2, 3, 4, 5], [6, 7, 8, 9, 10]]\n",
      "[6, 7, 8, 9, 10]\n",
      "9\n",
      "[2, 3, 4, 5]\n"
     ]
    }
   ],
   "source": [
    "# nested lists\n",
    "\n",
    "nested_lists = [[1,2,3,4,5],[6,7,8,9,10]]\n",
    "print(nested_lists)\n",
    "\n",
    "# accessing a specific list out of nested lists\n",
    "print(nested_lists[1])\n",
    "\n",
    "# accessing a specific element from a specific list\n",
    "# here accessing 4th element of the second list which is 9\n",
    "\n",
    "print(nested_lists[1][3])\n",
    "\n",
    "# accessing a specific range of elements from a specific list (remember the last index is not included)\n",
    "print(nested_lists[0][1:5])"
   ]
  },
  {
   "cell_type": "code",
   "execution_count": 47,
   "metadata": {},
   "outputs": [
    {
     "name": "stdout",
     "output_type": "stream",
     "text": [
      "[]\n",
      "[]\n"
     ]
    }
   ],
   "source": [
    "# creating empty python lists\n",
    "\n",
    "empListOne = []\n",
    "empListTwo = list() # mnind the syntax difference. \n",
    "\n",
    "print(empListOne)\n",
    "print(empListTwo)\n"
   ]
  },
  {
   "cell_type": "code",
   "execution_count": null,
   "metadata": {},
   "outputs": [],
   "source": []
  }
 ],
 "metadata": {
  "kernelspec": {
   "display_name": "base",
   "language": "python",
   "name": "python3"
  },
  "language_info": {
   "codemirror_mode": {
    "name": "ipython",
    "version": 3
   },
   "file_extension": ".py",
   "mimetype": "text/x-python",
   "name": "python",
   "nbconvert_exporter": "python",
   "pygments_lexer": "ipython3",
   "version": "3.12.4"
  }
 },
 "nbformat": 4,
 "nbformat_minor": 2
}
