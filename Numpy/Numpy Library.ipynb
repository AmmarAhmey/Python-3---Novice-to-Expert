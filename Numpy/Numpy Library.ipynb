{
 "cells": [
  {
   "cell_type": "markdown",
   "metadata": {},
   "source": [
    "<h1 align = center>Numpy Library</h1>"
   ]
  },
  {
   "cell_type": "markdown",
   "metadata": {},
   "source": [
    "## Creating Numpy Arrays"
   ]
  },
  {
   "cell_type": "code",
   "execution_count": 2,
   "metadata": {},
   "outputs": [],
   "source": [
    "# to use numpy, we have to import it first. (of course we need to install it first) \n",
    "import numpy as np"
   ]
  },
  {
   "cell_type": "markdown",
   "metadata": {},
   "source": [
    "- Numpy array is created using `array()` method of numpy library. \n",
    "- This method requires a python `list` as an argument. We can not only pass required values in the form of list to create a new array can also pass an existed list as an argument and the array() method will convert it into a numpy array. \n",
    "- __Syntax__\n",
    "  - `np.array([a_list_of_elements])`"
   ]
  },
  {
   "cell_type": "code",
   "execution_count": 3,
   "metadata": {},
   "outputs": [
    {
     "name": "stdout",
     "output_type": "stream",
     "text": [
      "[1 2 3 4 5]\n",
      "<class 'numpy.ndarray'>\n"
     ]
    }
   ],
   "source": [
    "# creating one dimensional numpy arrays\n",
    "a_numpy_array = np.array([1,2,3,4,5])\n",
    "\n",
    "print(a_numpy_array)\n",
    "print(type(a_numpy_array))"
   ]
  },
  {
   "cell_type": "markdown",
   "metadata": {},
   "source": [
    "### Creating Multi-Dimensional Numpy Arrays\n",
    "- The simple array, created from a simple list are called 1 dimensional arrays. But numpy allows us to create arrays from lists of lists. In this case, these array are called multidimensional arrays. \n",
    "- If we are to create a numpy array form a list of lists, it will be called a 2 dimensional array. In the case of list of lists of lists, it will be called a 3 dimensional array and so on. \n",
    "- The syntax is simple, we just need to pass our list of lists to the array() method "
   ]
  },
  {
   "cell_type": "code",
   "execution_count": 8,
   "metadata": {},
   "outputs": [
    {
     "name": "stdout",
     "output_type": "stream",
     "text": [
      "[[1 2 3]\n",
      " [4 5 6]\n",
      " [7 8 9]]\n"
     ]
    }
   ],
   "source": [
    "'''\n",
    "Creating a 2D Array\n",
    "'''\n",
    "list_of_lists = [\n",
    "    [1,2,3],\n",
    "    [4,5,6],\n",
    "    [7,8,9]\n",
    "    ]\n",
    "\n",
    "two_d_array = np.array(list_of_lists)\n",
    "\n",
    "print(two_d_array)"
   ]
  },
  {
   "cell_type": "code",
   "execution_count": 9,
   "metadata": {},
   "outputs": [
    {
     "name": "stdout",
     "output_type": "stream",
     "text": [
      "[[[ 1  2  3]\n",
      "  [ 4  5  6]]\n",
      "\n",
      " [[ 7  8  9]\n",
      "  [10 11 12]]\n",
      "\n",
      " [[13 14 15]\n",
      "  [16 17 18]]]\n",
      "<class 'numpy.ndarray'>\n"
     ]
    }
   ],
   "source": [
    "'''\n",
    "Creating a 3D array\n",
    "'''\n",
    "list_of_lists_of_lists = [\n",
    "    [\n",
    "        [1, 2, 3],\n",
    "        [4, 5, 6]\n",
    "    ],\n",
    "    [\n",
    "        [7, 8, 9],\n",
    "        [10, 11, 12]\n",
    "    ],\n",
    "    [\n",
    "        [13, 14, 15],\n",
    "        [16, 17, 18]\n",
    "    ]\n",
    "]\n",
    "\n",
    "three_d_array = np.array(list_of_lists_of_lists)\n",
    "\n",
    "print(three_d_array)\n",
    "print(type(three_d_array))"
   ]
  },
  {
   "cell_type": "markdown",
   "metadata": {},
   "source": [
    "### Checking the Shape/Dimensions of a Numpy Array\n",
    "- We can use the `shape` property of a numpy array object to check its dimensions."
   ]
  },
  {
   "cell_type": "code",
   "execution_count": 10,
   "metadata": {},
   "outputs": [
    {
     "name": "stdout",
     "output_type": "stream",
     "text": [
      "The shape of our previous created arrays are as follows: \n",
      "The shape of a simple numpy array is : (5,)\n",
      "The shape of a 2D numpy array is : (3, 3)\n",
      "The shape of a 3D numpy array is : (3, 2, 3)\n"
     ]
    }
   ],
   "source": [
    "print('The shape of our previous created arrays are as follows: ')\n",
    "\n",
    "shape_one = a_numpy_array.shape\n",
    "shape_two = two_d_array.shape\n",
    "shape_three = three_d_array.shape\n",
    "\n",
    "print(f'The shape of a simple numpy array is : {shape_one}')\n",
    "print(f'The shape of a 2D numpy array is : {shape_two}')\n",
    "print(f'The shape of a 3D numpy array is : {shape_three}')"
   ]
  },
  {
   "cell_type": "markdown",
   "metadata": {},
   "source": [
    "- We can see here, that 1D array has just one row and zero columns, while 2D array is like a matrix having 3 rows and 3 columns. More than 2 dimensional array is called a `tensor` so our 3D array which is actually a tensor, has dimension (3,2,3) which states that there are 2 rows and 2 columns for each matrix and there are total 3 matrix."
   ]
  },
  {
   "cell_type": "markdown",
   "metadata": {},
   "source": [
    "## Some Commonly Used Special Numpy Arrays"
   ]
  },
  {
   "cell_type": "markdown",
   "metadata": {},
   "source": [
    "### Array of Zeros \n",
    "- Numpy provides a special method `np.zeros()` to create an array of our desired dimensions filled with zeros. This type of array is useful when we are working on a kind of data in which we need an array having specific dimensions and we will fill it with values as we progress through our program, a neural network is a widely known example. \n",
    "- __Syntax__:\n",
    "  - `np.zeros((a_tuple_stating_dimensions))`\n",
    "  - Note here, that we are not using `np.array()`, rather a different method `np.zeros()` is being used. \n",
    "  - Also note here, that unlike `np.array()` method, we are not passing a list as an argument, rather we are passing a tuple of dimensions. "
   ]
  },
  {
   "cell_type": "code",
   "execution_count": 15,
   "metadata": {},
   "outputs": [
    {
     "name": "stdout",
     "output_type": "stream",
     "text": [
      "Array with tuple already defined :\n",
      "[[0. 0. 0. 0.]\n",
      " [0. 0. 0. 0.]\n",
      " [0. 0. 0. 0.]]\n",
      "Array with dimensions directly supplied :\n",
      "[[0. 0. 0. 0.]\n",
      " [0. 0. 0. 0.]\n",
      " [0. 0. 0. 0.]\n",
      " [0. 0. 0. 0.]\n",
      " [0. 0. 0. 0.]\n",
      " [0. 0. 0. 0.]\n",
      " [0. 0. 0. 0.]\n",
      " [0. 0. 0. 0.]]\n"
     ]
    }
   ],
   "source": [
    "tuple_of_dimensions = (3,4) # we want to create an array having 3 rows and 4 columns \n",
    "\n",
    "array_of_zeros = np.zeros(tuple_of_dimensions)\n",
    "print(f'Array with tuple already defined :\\n{array_of_zeros}')\n",
    "\n",
    "array_of_zeros = np.zeros((8,4))\n",
    "print(f'Array with dimensions directly supplied :\\n{array_of_zeros}')\n",
    "\n"
   ]
  },
  {
   "cell_type": "markdown",
   "metadata": {},
   "source": [
    "### An Array of Random Numbers \n",
    "- Just like array of zeros, we can also create an array filled with random numbers and having our desired dimensions.\n",
    "- The created array will have random numbers between 0 and 1\n",
    "- __Syntax__:\n",
    "  - `np.random.random((a_tuple_of_dimensions))`"
   ]
  },
  {
   "cell_type": "code",
   "execution_count": 16,
   "metadata": {},
   "outputs": [
    {
     "name": "stdout",
     "output_type": "stream",
     "text": [
      "[[0.17105327 0.5328783  0.65582809]\n",
      " [0.79246413 0.33488983 0.91843924]\n",
      " [0.79207365 0.80003912 0.04889634]\n",
      " [0.31087318 0.31408865 0.53165674]\n",
      " [0.23238708 0.15406339 0.73804291]\n",
      " [0.35412497 0.70971702 0.28555703]]\n"
     ]
    }
   ],
   "source": [
    "random_numbers_array = np.random.random((6,3))\n",
    "print(random_numbers_array)"
   ]
  },
  {
   "cell_type": "markdown",
   "metadata": {},
   "source": [
    "### An Array of Random Numbers With Custom Lower and Upper Range\n",
    "- Numpy facilitates us in creating arrays filled with numbers with a user defined lower and upper range of these numbers. \n",
    "- This kind of array is a one dimensional array. \n",
    "- The numbers are not random, but in a continues sequence.\n",
    "- __Syntax__:\n",
    "  - `np.arange(lower_bound, upper_bound, step_size(optional))`\n",
    "  - Note here that the argument is neither a list nor a tuple but a simple comma separated set of arguments mentioning lower and upper bounds. \n",
    "  - The lower bound number is included in the result, while the upper bound number is not included. \n",
    "- __With Step Size__:\n",
    "  - We can also pass a step size as a third argument after the lower and upper bounds. The generated numbers will have a gap equal to the mentioned step size."
   ]
  },
  {
   "cell_type": "code",
   "execution_count": 19,
   "metadata": {},
   "outputs": [
    {
     "name": "stdout",
     "output_type": "stream",
     "text": [
      "[ 1  2  3  4  5  6  7  8  9 10 11 12 13 14 15 16 17 18 19 20]\n",
      "[ 1  3  5  7  9 11 13 15 17 19]\n"
     ]
    }
   ],
   "source": [
    "lower_bound = 1\n",
    "upper_bound = 21\n",
    "step_size = 2\n",
    "\n",
    "# without step size\n",
    "random_array_with_custom_bounds = np.arange(lower_bound, upper_bound)\n",
    "print(random_array_with_custom_bounds)\n",
    "\n",
    "# with step size\n",
    "with_step_size = np.arange(lower_bound, upper_bound, step_size)\n",
    "print(with_step_size)"
   ]
  }
 ],
 "metadata": {
  "kernelspec": {
   "display_name": "base",
   "language": "python",
   "name": "python3"
  },
  "language_info": {
   "codemirror_mode": {
    "name": "ipython",
    "version": 3
   },
   "file_extension": ".py",
   "mimetype": "text/x-python",
   "name": "python",
   "nbconvert_exporter": "python",
   "pygments_lexer": "ipython3",
   "version": "3.12.4"
  }
 },
 "nbformat": 4,
 "nbformat_minor": 2
}
