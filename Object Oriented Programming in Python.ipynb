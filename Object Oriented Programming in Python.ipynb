{
 "cells": [
  {
   "cell_type": "markdown",
   "metadata": {},
   "source": [
    "<h1 align = 'center'>Object Oriented Programming in Python</h1>"
   ]
  },
  {
   "cell_type": "markdown",
   "metadata": {},
   "source": [
    "**Table of contents**<a id='toc0_'></a>    \n",
    "- [Defining a Class](#toc1_1_)    \n",
    "    - [Defining an Instance of a Class](#toc1_1_1_)    \n",
    "  - [Class Constructor](#toc1_2_)    \n",
    "  - [Defining Instance Level Methods and Attributes](#toc1_3_)    \n",
    "  - [Defining Class Level Methods and Attributes](#toc1_4_)    \n",
    "  - [Encapsulation in Python.](#toc1_5_)    \n",
    "    - [Defining and Accessing Public Elements](#toc1_5_1_)    \n",
    "    - [Defining and Accessing Protected Elements](#toc1_5_2_)    \n",
    "    - [Defining and Accessing Private Elements](#toc1_5_3_)    \n",
    "    - [Getter and Setter Methods.](#toc1_5_4_)    \n",
    "\n",
    "<!-- vscode-jupyter-toc-config\n",
    "\tnumbering=false\n",
    "\tanchor=true\n",
    "\tflat=false\n",
    "\tminLevel=1\n",
    "\tmaxLevel=6\n",
    "\t/vscode-jupyter-toc-config -->\n",
    "<!-- THIS CELL WILL BE REPLACED ON TOC UPDATE. DO NOT WRITE YOUR TEXT IN THIS CELL -->"
   ]
  },
  {
   "cell_type": "markdown",
   "metadata": {},
   "source": [
    "## <a id='toc1_1_'></a>[Defining a Class](#toc0_)\n",
    "- In python, a class is defined using `class` keyword, a slight change as compared to functions where each function is defined using `def` keyword.\n",
    "- Class name starts with a Capital letter and after that, first character of each word in our class name should be capital. "
   ]
  },
  {
   "cell_type": "code",
   "execution_count": 1,
   "metadata": {},
   "outputs": [],
   "source": [
    "'''\n",
    "This method is still immature, don't use it. \n",
    "Defining a function to delete a class and all its instances. \n",
    "This is helpful in practice sessions, when we want to create multiple classes and want to delete them before creating any newer. \n",
    "Arguments:\n",
    "    - Name of Class to Delete \n",
    "    - All the class objects/instances to be deleted\n",
    "    - A star * before the second argument name indicates that there may be multiple number of arguments in place of second argument. \n",
    "'''\n",
    "def cleanup(AnyClassName, *variable_number_of_objects):\n",
    "    for object in variable_number_of_objects:\n",
    "        del object\n",
    "    del globals()[f'{AnyClassName}']"
   ]
  },
  {
   "cell_type": "code",
   "execution_count": 2,
   "metadata": {},
   "outputs": [],
   "source": [
    "# defining a class in python \n",
    "class AClass:\n",
    "    '''\n",
    "    - CLASS BODY\n",
    "    - Class Constructor\n",
    "    - Class Level Attributes\n",
    "    - Class Level Methods\n",
    "    - Object Level Methods\n",
    "    - Object Level Attributes \n",
    "    '''\n",
    "    pass # Placeholder indicating an empty class / empty placeholder "
   ]
  },
  {
   "cell_type": "markdown",
   "metadata": {},
   "source": [
    "### <a id='toc1_1_1_'></a>[Defining an Instance of a Class](#toc0_)\n",
    "An Instance of a class is created just like we create an empty dict, empty list or empty tuple using their `methods`, for example using the `dict(), tuple(), list()`"
   ]
  },
  {
   "cell_type": "code",
   "execution_count": 3,
   "metadata": {},
   "outputs": [
    {
     "name": "stdout",
     "output_type": "stream",
     "text": [
      "Type of AClass <class 'type'>\n",
      "Type of an_object <class '__main__.AClass'>\n"
     ]
    }
   ],
   "source": [
    "# an instance of the above created class AClass.\n",
    "\n",
    "an_object = AClass()\n",
    "\n",
    "print(f'Type of AClass {type(AClass)}')\n",
    "print(f'Type of an_object {type(an_object)}')\n",
    "\n",
    "# deleting this practice class and object\n",
    "del an_object\n",
    "del AClass"
   ]
  },
  {
   "cell_type": "markdown",
   "metadata": {},
   "source": [
    "## <a id='toc1_2_'></a>[Class Constructor](#toc0_)\n",
    "- A class constructor is an object level method which is always called whenever we create a new class object. In python this constructor is named `__init__`. \n",
    "- Any new class object will have all the values and methods defined inside the constructor. \n",
    "- It requires `self` as a first argument just like any other instance level method. "
   ]
  },
  {
   "cell_type": "code",
   "execution_count": 4,
   "metadata": {},
   "outputs": [
    {
     "name": "stdout",
     "output_type": "stream",
     "text": [
      "Default Dog Name\n",
      "Any Breed Name\n"
     ]
    }
   ],
   "source": [
    "class Dog:\n",
    "    def __init__(self):                 # class constructor\n",
    "        self.name = 'Default Dog Name'  # instance attribute 1\n",
    "        self.breed = 'Any Breed Name'   # instance attribute 2\n",
    "\n",
    "\n",
    "new_dog_object = Dog()\n",
    "\n",
    "print(new_dog_object.name)\n",
    "print(new_dog_object.breed)\n",
    "\n",
    "\n",
    "# cleanup \n",
    "del new_dog_object\n",
    "del Dog"
   ]
  },
  {
   "cell_type": "markdown",
   "metadata": {},
   "source": [
    "## <a id='toc1_3_'></a>[Defining Instance Level Methods and Attributes](#toc0_)\n",
    "__Instance Level Attributes__\n",
    "- Instance Level attributes begin with keyword `self` followed by a dot `.` and then attribute's name. for example `self.attribute_name`.\n",
    "- These attributes are always defined within an instance level method. Typically defined inside the constructor `__init__` method, but can also be defined in any other method, as long as its an instance level method. \n",
    "- Accessability of Instance Level Attributes \n",
    "  - Instance level attributes defined inside the constructor `__init__` can be accessed using the class object but,\n",
    "  - Instance level attributes defined inside any instance level method other than `__init__` method, can only be accessed inside that method or by calling that method and not accessible directly using class object. \n",
    "\n",
    "__Instance Level Methods__\n",
    "- Instance level methods should always receive `'self'` as first argument. The self indicates that this is an instance level method."
   ]
  },
  {
   "cell_type": "code",
   "execution_count": 5,
   "metadata": {},
   "outputs": [
    {
     "name": "stdout",
     "output_type": "stream",
     "text": [
      "Default Dog Name\n",
      "Any Breed Name\n",
      "koi bhi value\n",
      "hor koi value\n"
     ]
    }
   ],
   "source": [
    "class Dog:\n",
    "    def __init__(self):                 # class constructor\n",
    "        self.name = 'Default Dog Name'  # instance attribute 1\n",
    "        self.breed = 'Any Breed Name'   # instance attribute 2\n",
    "\n",
    "    def an_instance_level_method(self): # instance method\n",
    "        self.anyAttribute = 'koi bhi value'  # instance attribute 3 , cannot be accessed outside this method. \n",
    "        self.anOtherAttribute = 'hor koi value'   # instance attribute 4, cannot be accessed outside this method. \n",
    "        print(self.anyAttribute)\n",
    "        print(self.anOtherAttribute)\n",
    "\n",
    "\n",
    "new_dog_object = Dog()\n",
    "\n",
    "print(new_dog_object.name)\n",
    "print(new_dog_object.breed)\n",
    "new_dog_object.an_instance_level_method()\n",
    "\n",
    "\n",
    "\n",
    "# cleanup \n",
    "del new_dog_object\n",
    "del Dog"
   ]
  },
  {
   "cell_type": "markdown",
   "metadata": {},
   "source": [
    "## <a id='toc1_4_'></a>[Defining Class Level Methods and Attributes](#toc0_)\n",
    "Class level methods and attributes are accessed via class name without creating any object and are not associated with any object. \n",
    "\n",
    "__Class Level Attributes__\n",
    "- Class level attributes are defined by just writing attribute/variable name and its value outside any method or\n",
    "- These attributes can also be defined inside any class level method. In this case the class level attributes begins with keyword `cls` followed by a dot `.` and then attribute's name. Just like `cls.attribute_name`. This is different than instance level attributes, that always require a `self` keyword in their name regardless of being defined inside or outside of methods.\n",
    "\n",
    "__Class Level Methods__\n",
    "- Class level methods are defined using a decorator `@classmethod` and require an argument `cls` as their first argument, just like instance level methods that require `self` as a first argument. "
   ]
  },
  {
   "cell_type": "code",
   "execution_count": 6,
   "metadata": {},
   "outputs": [
    {
     "name": "stdout",
     "output_type": "stream",
     "text": [
      "Default Dog Name\n",
      "Any Breed Name\n",
      "koi bhi value\n",
      "hor koi value\n"
     ]
    }
   ],
   "source": [
    "class Dog:\n",
    "    name = 'Default Dog Name'  # class level attribute 1\n",
    "    breed = 'Any Breed Name'   # class level attribute 2\n",
    "\n",
    "    @classmethod\n",
    "    def a_class_level_method(cls): # class level method\n",
    "        cls.anyAttribute = 'koi bhi value'  # class level attribute 3 , cannot be accessed outside this method. \n",
    "        cls.anOtherAttribute = 'hor koi value'   # class level attribute 4, cannot be accessed outside this method. \n",
    "        print(cls.anyAttribute)\n",
    "        print(cls.anOtherAttribute)\n",
    "\n",
    "\n",
    "# accessing class level attributes without creating any object\n",
    "print(Dog.name)\n",
    "print(Dog.breed)\n",
    "Dog.a_class_level_method()\n",
    "\n",
    "\n",
    "\n",
    "# cleanup \n",
    "del Dog"
   ]
  },
  {
   "cell_type": "markdown",
   "metadata": {},
   "source": [
    "## <a id='toc1_5_'></a>[Encapsulation in Python.](#toc0_)\n",
    "1. __Public__ : \n",
    "    \n",
    "    Accessible from outside class. The default protection. \n",
    "2. __Protected__ : \n",
    "   \n",
    "   Suggested to be accessed within the class and its subclasses but python does not strictly enforces this like other programming languages. These elements are defined but adding **an underscore** `_` before the name of attribute or method. \n",
    "3. __Private__ : \n",
    "   \n",
    "   Accessible only within the class. These elements are defined but adding **double underscore** `__` before the name of attribute or method. "
   ]
  },
  {
   "cell_type": "markdown",
   "metadata": {},
   "source": [
    "### <a id='toc1_5_1_'></a>[Defining and Accessing Public Elements](#toc0_)"
   ]
  },
  {
   "cell_type": "code",
   "execution_count": 7,
   "metadata": {},
   "outputs": [
    {
     "name": "stdout",
     "output_type": "stream",
     "text": [
      "Buddy\n",
      "Max\n"
     ]
    }
   ],
   "source": [
    "class Dog:\n",
    "    def __init__(self, name, age):\n",
    "        self.name = name    # public attribute\n",
    "        self.age = age      # public attribute\n",
    "\n",
    "    def bark(self):         # public method\n",
    "        print(f'{self.name} says woof!')\n",
    "\n",
    "# create an instance\n",
    "my_dog = Dog('Buddy', 5)\n",
    "\n",
    "# accessing and modifying public attributes directly \n",
    "print(my_dog.name)\n",
    "my_dog.name = 'Max'\n",
    "print(my_dog.name)\n",
    "\n",
    "# cleanup \n",
    "del my_dog\n",
    "del Dog"
   ]
  },
  {
   "cell_type": "markdown",
   "metadata": {},
   "source": [
    "### <a id='toc1_5_2_'></a>[Defining and Accessing Protected Elements](#toc0_)"
   ]
  },
  {
   "cell_type": "code",
   "execution_count": 9,
   "metadata": {},
   "outputs": [
    {
     "name": "stdout",
     "output_type": "stream",
     "text": [
      "Buddy\n",
      "Buddy says woof!\n",
      "None\n"
     ]
    }
   ],
   "source": [
    "class Dog:\n",
    "    def __init__(self, name, age):\n",
    "        self._name = name    # protected attribute\n",
    "        self._age = age      # protected attribute\n",
    "\n",
    "    def _bark(self):         # protected method\n",
    "        print(f'{self._name} says woof!')\n",
    "\n",
    "# create an instance\n",
    "my_dog = Dog('Buddy', 5)\n",
    "\n",
    "# accessing and modifying protected attributes directly (not recommended to do this but python does not restrict)\n",
    "print(my_dog._name)\n",
    "print(my_dog._bark())\n",
    "\n",
    "# clean up\n",
    "del my_dog\n",
    "del Dog"
   ]
  },
  {
   "cell_type": "markdown",
   "metadata": {},
   "source": [
    "### <a id='toc1_5_3_'></a>[Defining and Accessing Private Elements](#toc0_)"
   ]
  },
  {
   "cell_type": "code",
   "execution_count": 11,
   "metadata": {},
   "outputs": [
    {
     "name": "stdout",
     "output_type": "stream",
     "text": [
      "Buddy\n"
     ]
    }
   ],
   "source": [
    "class Dog:\n",
    "    def __init__(self, name, age):\n",
    "        self.__name = name    # private attribute\n",
    "        self.__age = age      # private attribute\n",
    "\n",
    "    def __bark(self):         # private method\n",
    "        print(f'{self.__name} says woof!')\n",
    "    \n",
    "    # public method to access private attributes \n",
    "    def get_name(self):\n",
    "        return self.__name\n",
    "\n",
    "# create an instance\n",
    "my_dog = Dog('Buddy', 5)\n",
    "\n",
    "# attempting to access private attributes and methods directly \n",
    "# print(my_dog.__name) # this will raise an AttributeError\n",
    "# print(my_dog.__bark()) # this will raise an AttributeError\n",
    "\n",
    "# using public methods to access private data\n",
    "print(my_dog.get_name())\n",
    "\n",
    "# clean up\n",
    "del my_dog\n",
    "del Dog"
   ]
  },
  {
   "cell_type": "markdown",
   "metadata": {},
   "source": [
    "### <a id='toc1_5_4_'></a>[Getter and Setter Methods](#toc0_)\n",
    "- As the private members (attributes/method) can not be (or more precisely should not be) directly accessed outside a class, just like other programming languages, we can define getter and setter methods "
   ]
  },
  {
   "cell_type": "code",
   "execution_count": null,
   "metadata": {},
   "outputs": [],
   "source": []
  }
 ],
 "metadata": {
  "kernelspec": {
   "display_name": "Python 3",
   "language": "python",
   "name": "python3"
  },
  "language_info": {
   "codemirror_mode": {
    "name": "ipython",
    "version": 3
   },
   "file_extension": ".py",
   "mimetype": "text/x-python",
   "name": "python",
   "nbconvert_exporter": "python",
   "pygments_lexer": "ipython3",
   "version": "3.12.4"
  }
 },
 "nbformat": 4,
 "nbformat_minor": 2
}
