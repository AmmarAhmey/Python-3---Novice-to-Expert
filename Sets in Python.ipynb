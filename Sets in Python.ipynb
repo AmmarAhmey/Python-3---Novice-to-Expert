{
 "cells": [
  {
   "cell_type": "markdown",
   "metadata": {},
   "source": [
    "# Sets in Python"
   ]
  },
  {
   "cell_type": "markdown",
   "metadata": {},
   "source": [
    "## Key Properties of Sets\n",
    "1. Unordered Collection: Sets store elements without any particular order.\n",
    "2. No Duplicate Elements: Sets automatically handle duplicate elements, ensuring each element appears only once.\n",
    "3. Efficient Membership Testing: Sets provide fast O(1) average time complexity for membership tests (in and not in). The difference is O(1) lookup for sets and O(n) lookup for lists\n",
    "## Use Case Scenarios \n",
    "1. Removing Duplicates from a List\n",
    "2. Membership Testing\n",
    "3. Set Operations\n",
    "4. Filtering Data\n",
    "5. Graph Algorithms, to keep track of visited nodes."
   ]
  },
  {
   "cell_type": "markdown",
   "metadata": {},
   "source": [
    "#### Defining Sets"
   ]
  },
  {
   "cell_type": "code",
   "execution_count": 1,
   "metadata": {},
   "outputs": [
    {
     "name": "stdout",
     "output_type": "stream",
     "text": [
      "<class 'set'>\n",
      "<class 'set'>\n",
      "<class 'set'>\n"
     ]
    }
   ],
   "source": [
    "# defining a set\n",
    "\n",
    "#1. using the curly braces \n",
    "\n",
    "a = {1,2,3,4}\n",
    "print(type(a))\n",
    "\n",
    "# 2. using the set() method\n",
    "\n",
    "b = set([1,2,3,4]) # the set() method needs a list of elements as an input argument \n",
    "print(type(b))\n",
    "\n",
    "# 3. empty set\n",
    "c = set()\n",
    "print(type(c))\n"
   ]
  },
  {
   "cell_type": "markdown",
   "metadata": {},
   "source": [
    "Adding Elements"
   ]
  },
  {
   "cell_type": "code",
   "execution_count": 2,
   "metadata": {},
   "outputs": [
    {
     "name": "stdout",
     "output_type": "stream",
     "text": [
      "{1, 2, 3, 4, 5}\n",
      "{1, 2, 3, 4, 5, 6}\n",
      "{1, 2, 3, 4, 5, 6, 7, 8, 9, 10}\n"
     ]
    }
   ],
   "source": [
    "# adding elements in a set\n",
    "\n",
    "d = {1,2,3,4,5}\n",
    "print(d)\n",
    "\n",
    "# to add a single new item, we can use the add method, but it cannot be used if we need to add multiple items at a time. \n",
    "d.add(6)\n",
    "print(d)\n",
    "\n",
    "# to add multiple items. \n",
    "\n",
    "d.update([7,8,9,10])\n",
    "print(d)"
   ]
  },
  {
   "cell_type": "code",
   "execution_count": 3,
   "metadata": {},
   "outputs": [
    {
     "name": "stdout",
     "output_type": "stream",
     "text": [
      "{1, 2, 3, 4, 5, 6, 7, 8, 9, 10}\n"
     ]
    }
   ],
   "source": [
    "# we can add also add two sets\n",
    "\n",
    "e = {1,2,3,4,5}\n",
    "f = {6,7,8,9,10}\n",
    "\n",
    "e.update(f)\n",
    "print(e)"
   ]
  },
  {
   "cell_type": "markdown",
   "metadata": {},
   "source": [
    "#### Updating and Extending Sets"
   ]
  },
  {
   "cell_type": "code",
   "execution_count": 4,
   "metadata": {},
   "outputs": [
    {
     "name": "stdout",
     "output_type": "stream",
     "text": [
      "{1, 2, 3}\n",
      "{1, 2, 3, 4, 5, 6}\n",
      "{1, 2, 3, 4}\n",
      "{4}\n",
      "{1, 2, 3, 4}\n",
      "{1, 2}\n",
      "{1, 2, 3, 4}\n",
      "{1, 2, 3, 4, 5, 6}\n"
     ]
    }
   ],
   "source": [
    "# updating sets in a special way.\n",
    "# we can perform several operation between two sets before adding them. \n",
    "# that means we can bound python to add only those elements in our set that meets certain criteria / set operation\n",
    "\n",
    "# 1. The union update , the simple default update\n",
    "g = {1,2,3}\n",
    "print(g)\n",
    "\n",
    "g.update({4,5,6})\n",
    "print(g)\n",
    "\n",
    "# 2. Intersection update \n",
    "\n",
    "h = {1,2,3,4}\n",
    "print(h)\n",
    "\n",
    "h.intersection_update({4,5,6})\n",
    "print(h)\n",
    "\n",
    "# 3. Set difference update\n",
    "i = {1,2,3,4}\n",
    "print(i)\n",
    "\n",
    "i.difference_update({3,4,5})\n",
    "print(i)\n",
    "\n",
    "# 4. Symmetric difference update \n",
    "j = {1,2,3,4}\n",
    "print(j)\n",
    "\n",
    "j.update({3,4,5,6})\n",
    "print(j)"
   ]
  },
  {
   "cell_type": "markdown",
   "metadata": {},
   "source": [
    "#### Check if some element is present in a set"
   ]
  },
  {
   "cell_type": "code",
   "execution_count": 5,
   "metadata": {},
   "outputs": [
    {
     "name": "stdout",
     "output_type": "stream",
     "text": [
      "{1, 2, 3, 4, 5, 6}\n",
      "True\n"
     ]
    }
   ],
   "source": [
    "print(j)\n",
    "\n",
    "# checking if 5 is present in this set.\n",
    "booleanVariable = 5 in j\n",
    "\n",
    "print(booleanVariable)"
   ]
  },
  {
   "cell_type": "markdown",
   "metadata": {},
   "source": [
    "#### Making a copy of a set"
   ]
  },
  {
   "cell_type": "code",
   "execution_count": 6,
   "metadata": {},
   "outputs": [
    {
     "name": "stdout",
     "output_type": "stream",
     "text": [
      "{1, 2, 3, 4, 5, 6}\n",
      "{1, 2, 3, 4, 5, 6}\n"
     ]
    }
   ],
   "source": [
    "k = j.copy()\n",
    "\n",
    "print(j)\n",
    "print(k)"
   ]
  },
  {
   "cell_type": "markdown",
   "metadata": {},
   "source": [
    "#### Set comparisons "
   ]
  },
  {
   "cell_type": "code",
   "execution_count": 7,
   "metadata": {},
   "outputs": [
    {
     "name": "stdout",
     "output_type": "stream",
     "text": [
      "True\n",
      "False\n",
      "True\n",
      "True\n",
      "True\n",
      "False\n",
      "False\n",
      "False\n"
     ]
    }
   ],
   "source": [
    "s1 = {1, 2, 3}\n",
    "s2 = {1, 2}\n",
    "\n",
    "\n",
    "# check if a set is superset of other\n",
    "superset = s1.issuperset(s2)\n",
    "print(superset)\n",
    "\n",
    "# check if a set is subset of other\n",
    "subset = s1.issubset(s2)\n",
    "print(subset)\n",
    "subset = s2.issubset(s1)\n",
    "print(subset)\n",
    "\n",
    "# >=, >, ==, <, <=\n",
    "\n",
    "print(s1 >= s2)\n",
    "print(s1 > s2)\n",
    "print(s1 == s2)\n",
    "print(s1 < s2)\n",
    "print(s1 <= s2)"
   ]
  },
  {
   "cell_type": "markdown",
   "metadata": {},
   "source": [
    "#### Set Operations \n",
    "1. Intersection\n",
    "2. Disjointedness \n",
    "3. Union\n",
    "4. Difference\n",
    "5. Symmetric Difference"
   ]
  },
  {
   "cell_type": "code",
   "execution_count": 8,
   "metadata": {},
   "outputs": [
    {
     "name": "stdout",
     "output_type": "stream",
     "text": [
      "{1, 2, 3, 4}\n",
      "{3, 4, 5, 6}\n",
      "Intersection : {3, 4}\n",
      "Is A disjoint to B : False\n",
      "Union : {1, 2, 3, 4, 5, 6}\n",
      "Set difference : {1, 2}\n",
      "Symmetric Difference : {1, 2, 5, 6}\n"
     ]
    }
   ],
   "source": [
    "a = {1,2,3,4}\n",
    "b = {3,4,5,6}\n",
    "\n",
    "print(a)\n",
    "print(b)\n",
    "\n",
    "# 1. Intersection\n",
    "intersection = a.intersection(b) # common elements \n",
    "print(f\"Intersection : {intersection}\")\n",
    "\n",
    "# 2. Disjointedness\n",
    "disjoint = a.isdisjoint(b) # check if nothing is common? yes or no\n",
    "print(f\"Is A disjoint to B : {disjoint}\")\n",
    "\n",
    "# 3. Union\n",
    "union = a.union(b) # all the elements of both sets, if an element is present in both sets, it will be included in union but no duplicates \n",
    "print(f\"Union : {union}\")\n",
    "\n",
    "# 4. Difference\n",
    "difference = a.difference(b) # all elements of first set, except those which are also present in second set.\n",
    "print(f\"Set difference : {difference}\")\n",
    "\n",
    "# 5. Symmetric Difference\n",
    "symmetric_difference = a.symmetric_difference(b) # all the elements of both sets, except the common elements of both sets (or except the intersection elements)\n",
    "print(f\"Symmetric Difference : {symmetric_difference}\")\n"
   ]
  },
  {
   "cell_type": "markdown",
   "metadata": {},
   "source": [
    "#### Removing elements from a set"
   ]
  },
  {
   "cell_type": "code",
   "execution_count": 9,
   "metadata": {},
   "outputs": [
    {
     "name": "stdout",
     "output_type": "stream",
     "text": [
      "{1, 2, 3, 4, 5, 6, 7, 8, 9, 10}\n",
      "{1, 2, 4, 5, 6, 7, 8, 9, 10}\n",
      "There was'nt any element like this to remove\n",
      "No exception raised\n",
      "The randomly removed element is : 1\n",
      "set()\n"
     ]
    }
   ],
   "source": [
    "l = {1,2,3,4,5,6,7,8,9,10}\n",
    "print(l)\n",
    "\n",
    "\n",
    "\n",
    "# 1. Removing elements and raising exception if the elements was'nt a part of set and cannot be removed. \n",
    "\n",
    "l.remove(3) # this will remove\n",
    "print(l)\n",
    "\n",
    "try:\n",
    "    l.remove(3) # removing again the same element (of-course not present)\n",
    "except:\n",
    "    print(\"There was'nt any element like this to remove\")\n",
    "\n",
    "\n",
    "\n",
    "\n",
    "\n",
    "\n",
    "# 2. removing without any exception, will remove if element present or will skip.\n",
    "try:\n",
    "    l.discard(3) # try to remove 3 if present but will not raise exception if it was'nt there to remove\n",
    "    print(\"No exception raised\")\n",
    "except:\n",
    "    print(\"There was'nt any element like this to remove\")\n",
    "\n",
    "\n",
    "\n",
    "\n",
    "\n",
    "\n",
    "# 3. removing a random element from our set, any random element will be removed without any order. \n",
    "#  . will also return the removed element so that we know which element was removed. \n",
    "removed_element = l.pop()\n",
    "print(f\"The randomly removed element is : {removed_element}\")\n",
    "\n",
    "\n",
    "\n",
    "\n",
    "\n",
    "\n",
    "# 4. Deleting all the elements ofa set at once. \n",
    "l.clear()\n",
    "print(l)"
   ]
  },
  {
   "cell_type": "markdown",
   "metadata": {},
   "source": [
    "#### Filtering Data using sets"
   ]
  },
  {
   "cell_type": "code",
   "execution_count": 10,
   "metadata": {},
   "outputs": [
    {
     "name": "stdout",
     "output_type": "stream",
     "text": [
      "['a@example.com']\n"
     ]
    }
   ],
   "source": [
    "all_emails = [\"a@example.com\", \"b@example.com\", \"c@example.com\"]\n",
    "blacklist = {\"b@example.com\", \"c@example.com\"}\n",
    "\n",
    "emails = [emails for emails in all_emails if emails not in blacklist]\n",
    "print(emails)"
   ]
  }
 ],
 "metadata": {
  "kernelspec": {
   "display_name": "base",
   "language": "python",
   "name": "python3"
  },
  "language_info": {
   "codemirror_mode": {
    "name": "ipython",
    "version": 3
   },
   "file_extension": ".py",
   "mimetype": "text/x-python",
   "name": "python",
   "nbconvert_exporter": "python",
   "pygments_lexer": "ipython3",
   "version": "3.12.4"
  }
 },
 "nbformat": 4,
 "nbformat_minor": 2
}
