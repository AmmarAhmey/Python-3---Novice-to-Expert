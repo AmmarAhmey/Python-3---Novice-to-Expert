{
 "cells": [
  {
   "cell_type": "markdown",
   "metadata": {},
   "source": [
    "# Strings in Python"
   ]
  },
  {
   "cell_type": "markdown",
   "metadata": {},
   "source": [
    "### Defining Strings "
   ]
  },
  {
   "cell_type": "code",
   "execution_count": 1,
   "metadata": {},
   "outputs": [
    {
     "name": "stdout",
     "output_type": "stream",
     "text": [
      "This is a list\n",
      "This is also a list\n",
      "This is a \n",
      "multi lined string\n"
     ]
    }
   ],
   "source": [
    "# 1. using single quotes \n",
    "a = 'This is a list'\n",
    "print(a)\n",
    "\n",
    "# 2. using double quotes \n",
    "b = \"This is also a list\"\n",
    "print(b)\n",
    "\n",
    "# 3. multi line strings, these are defined using triple quotes. (triple quotes creating using multiple single quotes. )\n",
    "c = '''This is a \n",
    "multi lined string'''\n",
    "print(c)"
   ]
  },
  {
   "cell_type": "markdown",
   "metadata": {},
   "source": [
    "### Concatenating Strings "
   ]
  },
  {
   "cell_type": "code",
   "execution_count": 2,
   "metadata": {},
   "outputs": [
    {
     "name": "stdout",
     "output_type": "stream",
     "text": [
      "HelloWorld\n",
      "Hello World\n"
     ]
    }
   ],
   "source": [
    "string01 = 'Hello'\n",
    "string02 = 'World'\n",
    "\n",
    "concatenation_01 = string01 + string02\n",
    "print(concatenation_01)\n",
    "\n",
    "# we can add a white space using another empty string\n",
    "concatenation_02 = string01 + \" \" + string02\n",
    "print(concatenation_02)"
   ]
  },
  {
   "cell_type": "markdown",
   "metadata": {},
   "source": [
    "### Repetition of Strings "
   ]
  },
  {
   "cell_type": "code",
   "execution_count": 3,
   "metadata": {},
   "outputs": [
    {
     "name": "stdout",
     "output_type": "stream",
     "text": [
      "Hello WorldHello WorldHello World\n"
     ]
    }
   ],
   "source": [
    "# we can repeat string using the * operator. \n",
    "\n",
    "repeated_string = concatenation_02 * 3\n",
    "\n",
    "print(repeated_string)"
   ]
  },
  {
   "cell_type": "markdown",
   "metadata": {},
   "source": [
    "### Indexing and Slicing"
   ]
  },
  {
   "cell_type": "code",
   "execution_count": 4,
   "metadata": {},
   "outputs": [
    {
     "name": "stdout",
     "output_type": "stream",
     "text": [
      "S\n",
      "A\n",
      "STRING\n"
     ]
    }
   ],
   "source": [
    "# indexing\n",
    "myString = \"THIS IS A STRING\"\n",
    "print(myString[3])\n",
    "print(myString[8])\n",
    "\n",
    "# slicing \n",
    "sliced_string = myString[-6:]\n",
    "print(sliced_string)\n",
    "\n",
    "# "
   ]
  },
  {
   "cell_type": "markdown",
   "metadata": {},
   "source": [
    "### Change Cases , upper lower etc"
   ]
  },
  {
   "cell_type": "code",
   "execution_count": 5,
   "metadata": {},
   "outputs": [
    {
     "name": "stdout",
     "output_type": "stream",
     "text": [
      "this Is a tEstiNg stRing.\n",
      "THIS IS A TESTING STRING.\n",
      "this is a testing string.\n",
      "This Is A Testing String.\n",
      "This is a testing string.\n",
      "THIS iS A TeSTInG STrING.\n"
     ]
    }
   ],
   "source": [
    "testing_string = \"this Is a tEstiNg stRing.\"\n",
    "print(testing_string)\n",
    "\n",
    "# to upper/capitalize case\n",
    "print(testing_string.upper())\n",
    "\n",
    "# to lower case\n",
    "print(testing_string.lower())\n",
    "\n",
    "# to title case / each first character capital\n",
    "print(testing_string.title())\n",
    "\n",
    "# capitalize only first character of the string\n",
    "print(testing_string.capitalize())\n",
    "\n",
    "# swapping the case of characters \n",
    "print(testing_string.swapcase())"
   ]
  },
  {
   "cell_type": "code",
   "execution_count": 6,
   "metadata": {},
   "outputs": [
    {
     "name": "stdout",
     "output_type": "stream",
     "text": [
      "True\n",
      "False\n",
      "True\n",
      "True\n",
      "True\n",
      "True\n",
      "True\n",
      "True\n",
      "True\n",
      "True\n",
      "True\n",
      "True\n",
      "False\n",
      "True\n",
      "False\n"
     ]
    }
   ],
   "source": [
    "text_alpha = \"Hello\"\n",
    "text_digit = \"12345\"\n",
    "text_alnum = \"Hello123\"\n",
    "text_space = \"   \"\n",
    "text_upper = \"HELLO\"\n",
    "text_lower = \"hello\"\n",
    "text_title = \"Hello World\"\n",
    "text_start = \"Hello, World!\"\n",
    "text_end = \"Hello, World!\"\n",
    "text_numeric = \"12345\"\n",
    "text_special_numeric = \"²³\"\n",
    "text_decimal = \"12345\"\n",
    "text_identifier = \"variable_name\"\n",
    "text_invalid_identifier = \"123variable\"\n",
    "\n",
    "print(text_alpha.isalpha())            # True\n",
    "print(text_alpha.isdigit())            # False\n",
    "print(text_alnum.isalnum())            # True\n",
    "print(text_space.isspace())            # True\n",
    "print(text_upper.isupper())            # True\n",
    "print(text_lower.islower())            # True\n",
    "print(text_title.istitle())            # True\n",
    "print(text_start.startswith(\"Hello\"))  # True\n",
    "print(text_end.endswith(\"World!\"))     # True\n",
    "print(text_numeric.isnumeric())        # True\n",
    "print(text_special_numeric.isnumeric()) # True\n",
    "print(text_decimal.isdecimal())        # True\n",
    "print(text_special_numeric.isdecimal()) # False\n",
    "print(text_identifier.isidentifier())  # True\n",
    "print(text_invalid_identifier.isidentifier()) # False\n"
   ]
  },
  {
   "cell_type": "markdown",
   "metadata": {},
   "source": [
    "### Searching The Strings \n",
    "\n",
    "1. **`find()`**\n",
    "2. **`rfind()`**\n",
    "3. **`index()`**\n",
    "4. **`rindex()`**\n",
    "5. **`count()`**\n",
    "\n",
    "#### `find()`\n",
    "- **Description**: Returns the lowest index of the substring if found. If not found, returns `-1`.\n",
    "- **Syntax**: `str.find(sub[, start[, end]])`\n",
    "- **Time Complexity**: O(n)\n",
    "\n",
    "#### `rfind()`\n",
    "- **Description**: Returns the highest index of the substring if found. If not found, returns `-1`.\n",
    "- **Syntax**: `str.rfind(sub[, start[, end]])`\n",
    "- **Time Complexity**: O(n)\n",
    "\n",
    "#### `index()`\n",
    "- **Description**: Similar to `find()`, but raises a `ValueError` if the substring is not found.\n",
    "- **Syntax**: `str.index(sub[, start[, end]])`\n",
    "- **Time Complexity**: O(n)\n",
    "\n",
    "#### `rindex()`\n",
    "- **Description**: Similar to `rfind()`, but raises a `ValueError` if the substring is not found.\n",
    "- **Syntax**: `str.rindex(sub[, start[, end]])`\n",
    "- **Time Complexity**: O(n)\n",
    "\n",
    "#### `count()`\n",
    "- **Description**: Returns the number of non-overlapping occurrences of the substring in the string.\n",
    "- **Syntax**: `str.count(sub[, start[, end]])`\n",
    "- **Time Complexity**: O(n)\n",
    "\n",
    "#### Time Complexity\n",
    "\n",
    "- **`find()` and `rfind()`**: Both methods have a time complexity of O(n) because they may need to scan through the entire string to find the first or last occurrence of the substring.\n",
    "- **`index()` and `rindex()`**: Similar to `find()` and `rfind()`, they also have a time complexity of O(n) for the same reasons.\n",
    "- **`count()`**: The time complexity is O(n) as it needs to scan the entire string to count all occurrences of the substring.\n",
    "\n",
    "These methods are efficient for most practical purposes but can become slow if used repeatedly on very large strings."
   ]
  },
  {
   "cell_type": "code",
   "execution_count": 7,
   "metadata": {},
   "outputs": [
    {
     "name": "stdout",
     "output_type": "stream",
     "text": [
      "0\n",
      "-1\n",
      "14\n",
      "-1\n",
      "0\n",
      "Raises ValueError: substring not found\n",
      "14\n",
      "Raises ValueError: substring not found\n",
      "2\n",
      "0\n"
     ]
    }
   ],
   "source": [
    "text = \"hello, world, hello\"\n",
    "substring = \"hello\"\n",
    "non_existent_substring = \"Python\"\n",
    "\n",
    "# find()\n",
    "print(text.find(substring))                  # Output: 0\n",
    "print(text.find(non_existent_substring))     # Output: -1\n",
    "\n",
    "\n",
    "\n",
    "# rfind()\n",
    "print(text.rfind(substring))                 # Output: 14\n",
    "print(text.rfind(non_existent_substring))    # Output: -1\n",
    "\n",
    "\n",
    "\n",
    "# index()\n",
    "print(text.index(substring))                 # Output: 0\n",
    "# Uncommenting the next line will raise a ValueError\n",
    "try:\n",
    "    print(text.index(non_existent_substring))  # Raises ValueError: substring not found\n",
    "    print('executed successfully')\n",
    "except:\n",
    "    print('Raises ValueError: substring not found')\n",
    "\n",
    "\n",
    "\n",
    "# rindex()\n",
    "print(text.rindex(substring))                # Output: 14\n",
    "# Uncommenting the next line will raise a ValueError\n",
    "try:\n",
    "    print(text.rindex(non_existent_substring)) # Raises ValueError: substring not found\n",
    "    print('executed successfully')\n",
    "except:\n",
    "    print('Raises ValueError: substring not found')\n",
    "\n",
    "\n",
    "\n",
    "# count()\n",
    "print(text.count(substring))                 # Output: 2\n",
    "print(text.count(non_existent_substring))    # Output: 0\n"
   ]
  },
  {
   "cell_type": "markdown",
   "metadata": {},
   "source": [
    "### Common String Modification Methods and their Usage \n",
    "1. replace()\n",
    "2. strip()\n",
    "3. lstrip()\n",
    "4. rstrip()\n",
    "5. split()\n",
    "6. splitlines()\n",
    "7. zfill()\n",
    "8. center()\n",
    "9. ljust()\n",
    "10. rjust()"
   ]
  },
  {
   "cell_type": "markdown",
   "metadata": {},
   "source": [
    "#### Replacing characters or sequence of characters of a string"
   ]
  },
  {
   "cell_type": "code",
   "execution_count": 8,
   "metadata": {},
   "outputs": [
    {
     "name": "stdout",
     "output_type": "stream",
     "text": [
      "hello, world\n",
      "hello, Python\n"
     ]
    }
   ],
   "source": [
    "text = \"hello, world\"\n",
    "print(text)\n",
    "\n",
    "modified_text = text.replace('world', 'Python') # the method is not inplace\n",
    "print(modified_text)"
   ]
  },
  {
   "cell_type": "markdown",
   "metadata": {},
   "source": [
    "#### Removing Extra White Spaces from Strings\n",
    "1. From both sides\n",
    "2. From left\n",
    "3. From right"
   ]
  },
  {
   "cell_type": "code",
   "execution_count": 9,
   "metadata": {},
   "outputs": [
    {
     "name": "stdout",
     "output_type": "stream",
     "text": [
      "   hello, world   \n",
      "hello, world\n",
      "hello, world   \n",
      "   hello, world\n"
     ]
    }
   ],
   "source": [
    "text = \"   hello, world   \"\n",
    "print(text)\n",
    "\n",
    "# removing white spaces from both sides\n",
    "print(text.strip())\n",
    "\n",
    "# remove from left side\n",
    "print(text.lstrip())\n",
    "\n",
    "# remove from right side\n",
    "print(text.rstrip())"
   ]
  },
  {
   "cell_type": "markdown",
   "metadata": {},
   "source": [
    "#### Splitting / Dividing  a String"
   ]
  },
  {
   "cell_type": "code",
   "execution_count": 10,
   "metadata": {},
   "outputs": [
    {
     "name": "stdout",
     "output_type": "stream",
     "text": [
      "hello, world\n",
      "['hello', ' world'] || its type is <class 'list'>\n",
      "['This', 'is', 'a', 'list', 'for', 'testing'] || its type is <class 'list'>\n"
     ]
    }
   ],
   "source": [
    "# The split method returns a list, after splitting the strings based on our criteria. \n",
    "\n",
    "text = \"hello, world\"\n",
    "print(text)\n",
    "\n",
    "\n",
    "# splitting the list based on a specific character, for example a comma (,)\n",
    "splitted_text = text.split(',') # need to provide the splitting character in the form of a string here.\n",
    "print(f'{splitted_text} || its type is {type(splitted_text)}')\n",
    "\n",
    "\n",
    "# splitting based on white spaces\n",
    "text = \"This is a list for testing\"\n",
    "splitted_text = text.split() # the default is white spaces\n",
    "print(f'{splitted_text} || its type is {type(splitted_text)}')"
   ]
  },
  {
   "cell_type": "markdown",
   "metadata": {},
   "source": [
    "#### Splitting Lines "
   ]
  },
  {
   "cell_type": "code",
   "execution_count": 11,
   "metadata": {},
   "outputs": [
    {
     "name": "stdout",
     "output_type": "stream",
     "text": [
      "The actual String is : \n",
      " We are Pakistan.\n",
      "Pakistan is a country in Asia.\n",
      "Its an Islamic Republic. \n",
      " ____________________\n",
      "The splitted String is : \n",
      " ['We are Pakistan.', 'Pakistan is a country in Asia.', 'Its an Islamic Republic.']\n"
     ]
    }
   ],
   "source": [
    "# We can split a larger text based on its new line characters to get each sentence or each line as an individual member of a list.\n",
    "\n",
    "text = '''We are Pakistan.\n",
    "Pakistan is a country in Asia.\n",
    "Its an Islamic Republic.'''\n",
    "\n",
    "print(f'The actual String is : \\n {text} \\n ____________________')\n",
    "\n",
    "# splitting all the lines. \n",
    "splitted_text = text.splitlines()\n",
    "print(f'The splitted String is : \\n {splitted_text}')\n"
   ]
  },
  {
   "cell_type": "markdown",
   "metadata": {},
   "source": [
    "#### Joining Multiple Strings with a Specific Character between them Such as A Comma."
   ]
  },
  {
   "cell_type": "code",
   "execution_count": 12,
   "metadata": {},
   "outputs": [
    {
     "name": "stdout",
     "output_type": "stream",
     "text": [
      "We___Are___Learning___Python\n",
      "We****Are****Learning****Python\n",
      "We--Are--Learning--Python\n",
      "We,Are,Learning,Python\n"
     ]
    }
   ],
   "source": [
    "a_list_of_strings = ['We', 'Are', 'Learning', 'Python']\n",
    "joining_character_one = '___'\n",
    "joining_character_two = '****'\n",
    "\n",
    "combined_string = joining_character_one.join(a_list_of_strings)\n",
    "print(combined_string)\n",
    "\n",
    "combined_string = joining_character_two.join(a_list_of_strings)\n",
    "print(combined_string)\n",
    "\n",
    "combined_string = '--'.join(a_list_of_strings)\n",
    "print(combined_string)\n",
    "\n",
    "combined_string = ','.join(a_list_of_strings)\n",
    "print(combined_string)"
   ]
  },
  {
   "cell_type": "markdown",
   "metadata": {},
   "source": [
    "#### Filling Zeros in a String Containing Numbers to Meet a Certain String Length"
   ]
  },
  {
   "cell_type": "code",
   "execution_count": 13,
   "metadata": {},
   "outputs": [
    {
     "name": "stdout",
     "output_type": "stream",
     "text": [
      "12345\n",
      "0000012345\n"
     ]
    }
   ],
   "source": [
    "text = \"12345\"\n",
    "print(text)\n",
    "\n",
    "# filling zeros using zfill() method of string\n",
    "modified_text = text.zfill(10) # the argument show the total length of string in terms of characters, all the extra space will be filled with zeros. \n",
    "print(modified_text)"
   ]
  },
  {
   "cell_type": "markdown",
   "metadata": {},
   "source": [
    "#### Filling Any Character or White Space in a String to Meet Certain String Length. \n",
    "We can add characters or space to:\n",
    "1. Left\n",
    "2. Right\n",
    "3. Center"
   ]
  },
  {
   "cell_type": "code",
   "execution_count": 14,
   "metadata": {},
   "outputs": [
    {
     "name": "stdout",
     "output_type": "stream",
     "text": [
      "Ammar\n",
      "               Ammar\n",
      "_______________Ammar\n",
      "Ammar               \n",
      "Ammar_______________\n",
      "       Ammar        \n",
      "_______Ammar________\n"
     ]
    }
   ],
   "source": [
    "text = \"Ammar\"\n",
    "print(text)\n",
    "\n",
    "# justifying the text to right and filling the left space with rjust()\n",
    "left_filled = text.rjust(20) # filling white spaces\n",
    "print(left_filled)\n",
    "left_filled = text.rjust(20, '_') # filling a character \n",
    "print(left_filled)\n",
    "\n",
    "\n",
    "# justifying the text to left and filling the right space with ljust()\n",
    "right_filled = text.ljust(20) # filling white spaces\n",
    "print(right_filled)\n",
    "right_filled = text.ljust(20, '_') # filling a character \n",
    "print(right_filled)\n",
    "\n",
    "\n",
    "# justifying the text to center and filling the right and left space with center()\n",
    "center_filled = text.center(20) # filling white spaces\n",
    "print(center_filled)\n",
    "center_filled = text.center(20, '_') # filling a character \n",
    "print(center_filled)"
   ]
  },
  {
   "cell_type": "markdown",
   "metadata": {},
   "source": [
    "### Strings Formatting \n",
    "#### Using Old Formatting Method\n",
    "Common Format Specifiers\n",
    "1. %s – String\n",
    "2. %d – Integer \n",
    "3. %f – Floating point number\n",
    "4. %x – Hexadecimal integer\n",
    "5. %o – Octal integer"
   ]
  },
  {
   "cell_type": "code",
   "execution_count": 15,
   "metadata": {},
   "outputs": [
    {
     "name": "stdout",
     "output_type": "stream",
     "text": [
      "I am Ammar and my age is 31\n",
      "Integer : 123, Float : 123.46, Hex : 7b\n"
     ]
    }
   ],
   "source": [
    "# the old formatting method uses several specialized keywords such as %d for numbers and %s for strings.\n",
    "name = 'Ammar'\n",
    "age = 31\n",
    "\n",
    "\n",
    "# see, we use % signs to marks the spots, where variable values are required and \n",
    "# the variables are then mentioned outside quotation marks and\n",
    "# the string and variables are separated using another % sign.\n",
    "print(\"I am %s and my age is %d\" %(name,age)) \n",
    "\n",
    "# we can also customize the value formats \n",
    "number = 123\n",
    "float_number = 123.456\n",
    "print(\"Integer : %d, Float : %.2f, Hex : %x\" % (number, float_number, number))\n",
    "\n"
   ]
  },
  {
   "cell_type": "markdown",
   "metadata": {},
   "source": [
    "#### The F-String Method in Latest Python"
   ]
  },
  {
   "cell_type": "code",
   "execution_count": 16,
   "metadata": {},
   "outputs": [
    {
     "name": "stdout",
     "output_type": "stream",
     "text": [
      "Our First Numbers is 10 and Second Number is 20\n"
     ]
    }
   ],
   "source": [
    "x = 10\n",
    "y = 20\n",
    "\n",
    "print(f\"Our First Numbers is {x} and Second Number is {y}\")"
   ]
  },
  {
   "cell_type": "code",
   "execution_count": 17,
   "metadata": {},
   "outputs": [
    {
     "name": "stdout",
     "output_type": "stream",
     "text": [
      "The name is this girl is ALICE\n"
     ]
    }
   ],
   "source": [
    "# we can methods and functions inside our strings\n",
    "name = \"alice\"\n",
    "\n",
    "print(f\"The name is this girl is {name.upper()}\")"
   ]
  },
  {
   "cell_type": "code",
   "execution_count": 18,
   "metadata": {},
   "outputs": [
    {
     "name": "stdout",
     "output_type": "stream",
     "text": [
      "The Weather is warm today.\n"
     ]
    }
   ],
   "source": [
    "# using conditional statements right inside our strings \n",
    "temperature = 22\n",
    "\n",
    "print(f\"The Weather is {\"warm\" if temperature > 20 else \"cool\"} today.\")"
   ]
  },
  {
   "cell_type": "code",
   "execution_count": 19,
   "metadata": {},
   "outputs": [
    {
     "name": "stdout",
     "output_type": "stream",
     "text": [
      "Pi rounded to 2 decimal places is 3.14\n"
     ]
    }
   ],
   "source": [
    "# formatting numbers inside strings\n",
    "pi = 3.14159\n",
    "formatted_string = f\"Pi rounded to 2 decimal places is {pi:.2f}\"  \n",
    "# in the above code, mention the variable first, then colon and a dot, \n",
    "# after the dot we can specify the length of floating point i.e., 2,3,4 an so on, and\n",
    "# after the length we specify what we need, that is a floating point number highlighted by 'f' here. \n",
    "\n",
    "print(formatted_string)"
   ]
  },
  {
   "cell_type": "code",
   "execution_count": 20,
   "metadata": {},
   "outputs": [
    {
     "name": "stdout",
     "output_type": "stream",
     "text": [
      "The Number Is : 1,234,567,890\n"
     ]
    }
   ],
   "source": [
    "# adding a thousand separator to big numbers \n",
    "large_number = 1234567890\n",
    "formatted_string = f\"The Number Is : {large_number:,}\" # just write the required separator after the colon\n",
    "print(formatted_string)"
   ]
  },
  {
   "cell_type": "code",
   "execution_count": 21,
   "metadata": {},
   "outputs": [
    {
     "name": "stdout",
     "output_type": "stream",
     "text": [
      "The fraction in percentage is : 12.34%\n"
     ]
    }
   ],
   "source": [
    "# showing numbers are percentage\n",
    "fraction = 0.1234\n",
    "\n",
    "formatted_string = f\"The fraction in percentage is : {fraction:.2%}\"\n",
    "# in the above code, the colon and dot are the same, and 2 refers to the length of precision and \n",
    "# the % sign refers to that we need a percentage format, it would have been a floating point representation if\n",
    "# we had mentioned an 'f' instead of a '%\n",
    "\n",
    "print(formatted_string)"
   ]
  },
  {
   "cell_type": "code",
   "execution_count": 22,
   "metadata": {},
   "outputs": [
    {
     "name": "stdout",
     "output_type": "stream",
     "text": [
      "|left                |\n",
      "|               right|\n",
      "|       center       |\n"
     ]
    }
   ],
   "source": [
    "# Aligning the strings left, right or center\n",
    "\n",
    "# left alignment \n",
    "# < indicates left alignment and 20 indicates the length of string, \n",
    "# length means the total length in terms of characters in between the string is to be aligned. \n",
    "text = 'left' \n",
    "formatted = f\"{text:<20}\"\n",
    "\n",
    "print(\"|\"+formatted+\"|\")\n",
    "\n",
    "# right alignment\n",
    "text = 'right'\n",
    "formatted = f\"{text:>20}\"\n",
    "\n",
    "print(\"|\"+formatted+\"|\")\n",
    "\n",
    "# center alignment\n",
    "text = 'center'\n",
    "formatted = f\"{text:^20}\"\n",
    "\n",
    "print(\"|\"+formatted+\"|\")"
   ]
  },
  {
   "cell_type": "code",
   "execution_count": 23,
   "metadata": {},
   "outputs": [
    {
     "name": "stdout",
     "output_type": "stream",
     "text": [
      "|left................|\n",
      "|_______________right|\n",
      "|*******center*******|\n"
     ]
    }
   ],
   "source": [
    "# Padding the strings by adding letter or whitespaces to meet a certain string length\n",
    "# The method is same as aligning the string, except that now we have to mention a padding character. \n",
    "# This padding character will be added inplace of whitespaces that were used for alignment. \n",
    "# This character is added right after the colon. \n",
    "\n",
    "text = 'left' \n",
    "formatted = f\"{text:.<20}\" # padding character '.'\n",
    "\n",
    "print(\"|\"+formatted+\"|\")\n",
    "\n",
    "# right alignment\n",
    "text = 'right'\n",
    "formatted = f\"{text:_>20}\" # padding character '_'\n",
    "\n",
    "print(\"|\"+formatted+\"|\")\n",
    "\n",
    "# center alignment\n",
    "text = 'center'\n",
    "formatted = f\"{text:*^20}\" # padding character '*'\n",
    "\n",
    "print(\"|\"+formatted+\"|\")"
   ]
  },
  {
   "cell_type": "code",
   "execution_count": 24,
   "metadata": {},
   "outputs": [
    {
     "name": "stdout",
     "output_type": "stream",
     "text": [
      "Current date and time: 09-08-2024 11:46:52\n"
     ]
    }
   ],
   "source": [
    "# formatting date and time. \n",
    "\n",
    "from datetime import datetime\n",
    "\n",
    "now = datetime.now()\n",
    "formatted_string = f\"Current date and time: {now:%d-%m-%Y %H:%M:%S}\"\n",
    "print(formatted_string)  # Output: Current date and time: 2024-08-08 15:45:00\n"
   ]
  },
  {
   "cell_type": "code",
   "execution_count": null,
   "metadata": {},
   "outputs": [],
   "source": []
  }
 ],
 "metadata": {
  "kernelspec": {
   "display_name": "base",
   "language": "python",
   "name": "python3"
  },
  "language_info": {
   "codemirror_mode": {
    "name": "ipython",
    "version": 3
   },
   "file_extension": ".py",
   "mimetype": "text/x-python",
   "name": "python",
   "nbconvert_exporter": "python",
   "pygments_lexer": "ipython3",
   "version": "3.12.4"
  }
 },
 "nbformat": 4,
 "nbformat_minor": 2
}
