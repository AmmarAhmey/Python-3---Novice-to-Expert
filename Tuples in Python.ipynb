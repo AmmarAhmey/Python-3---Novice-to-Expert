{
 "cells": [
  {
   "cell_type": "markdown",
   "metadata": {},
   "source": [
    "<h1 align=center>Tuples in Python</h1>\n",
    "\n",
    "## Difference between tuples and lists. \n",
    "\n",
    "### Tuples\n",
    "\n",
    "1. **Immutability**: Tuples are immutable, meaning once created, their contents cannot be modified. Use tuples when you need a fixed, unchangeable collection of items.\n",
    "\n",
    "2. **Hashable**: Because tuples are immutable, they can be used as keys in dictionaries and elements in sets. Lists cannot be used for these purposes.\n",
    "\n",
    "3. **Performance**: Tuples are generally more memory-efficient and slightly faster than lists because they are immutable. If you have a fixed-size collection and performance is a concern, a tuple might be a better choice.\n",
    "\n",
    "4. **Semantic Meaning**: Tuples can be used to represent a single, fixed record or a simple grouping of heterogeneous items. For example, a tuple can be used to represent a point in 2D space (x, y) or a date (year, month, day).\n",
    "\n",
    "### Lists\n",
    "\n",
    "1. **Mutability**: Lists are mutable, meaning their contents can be changed after creation. Use lists when you need a collection that might need to be modified, such as adding, removing, or changing items.\n",
    "\n",
    "2. **Homogeneity**: Lists are often used for collections of similar items where you might need to perform operations like sorting or appending new items.\n",
    "\n",
    "3. **Dynamic Size**: Lists can grow or shrink in size dynamically, so they are suitable for cases where the number of elements might change over time.\n",
    "\n",
    "4. **Flexibility**: Lists come with a rich set of methods for modification, including `append()`, `extend()`, `remove()`, and `pop()`, among others. This makes them more versatile for many use cases."
   ]
  },
  {
   "cell_type": "markdown",
   "metadata": {},
   "source": [
    "## Creating a Tuple"
   ]
  },
  {
   "cell_type": "code",
   "execution_count": 1,
   "metadata": {},
   "outputs": [
    {
     "name": "stdout",
     "output_type": "stream",
     "text": [
      "(1, 2, 3, 4, 5, 6, 7, 8, 9, 10)\n",
      "<class 'tuple'>\n"
     ]
    }
   ],
   "source": [
    "# creating a tuple\n",
    "\n",
    "# empty tuple\n",
    "emptyTuplesOne = ()\n",
    "emptyTupleTwo = tuple()\n",
    "\n",
    "# tuple with values / initialization \n",
    "mytuple = (1,2,3,4,5,6,7,8,9,10)\n",
    "print(mytuple)\n",
    "\n",
    "print(type(mytuple))\n"
   ]
  },
  {
   "cell_type": "markdown",
   "metadata": {},
   "source": [
    "## Accessing Elements of a Tuple"
   ]
  },
  {
   "cell_type": "code",
   "execution_count": 2,
   "metadata": {},
   "outputs": [
    {
     "name": "stdout",
     "output_type": "stream",
     "text": [
      "(1, 2, 3, 4, 5, 6, 7, 8, 9, 10)\n",
      "(3, 4, 5)\n",
      "(1, 2, 3, 4, 5, 6, 7, 8, 9, 10)\n",
      "8\n",
      "(1, 3, 5, 7, 9)\n"
     ]
    }
   ],
   "source": [
    "# accessing elements of a tuple\n",
    "\n",
    "print(\n",
    "    mytuple[:]\n",
    "    )\n",
    "\n",
    "print(\n",
    "    mytuple[2:5]\n",
    ")\n",
    "\n",
    "print(\n",
    "    mytuple[:10]\n",
    ")\n",
    "\n",
    "print(\n",
    "    mytuple[-3]\n",
    "    )\n",
    "\n",
    "print(\n",
    "    mytuple[::2] # access every second element\n",
    ")"
   ]
  },
  {
   "cell_type": "markdown",
   "metadata": {},
   "source": [
    "## Searching in Tuple"
   ]
  },
  {
   "cell_type": "code",
   "execution_count": 3,
   "metadata": {},
   "outputs": [
    {
     "name": "stdout",
     "output_type": "stream",
     "text": [
      "The index of 8 is = 7\n"
     ]
    }
   ],
   "source": [
    "# finding index of a an element inside tuple \n",
    "\n",
    "element_index = mytuple.index(8)\n",
    "\n",
    "print(\n",
    "    \"The index of 8 is = \" + str(element_index)\n",
    ")"
   ]
  },
  {
   "cell_type": "markdown",
   "metadata": {},
   "source": [
    "## Counting Elements in a Tuple\n",
    "### Total Number of Elements"
   ]
  },
  {
   "cell_type": "code",
   "execution_count": 4,
   "metadata": {},
   "outputs": [
    {
     "name": "stdout",
     "output_type": "stream",
     "text": [
      "Total number of elements in this tuple are = 10\n"
     ]
    }
   ],
   "source": [
    "# count the total number of elements in a tuple\n",
    "\n",
    "size_of_tuple = len(mytuple)\n",
    "\n",
    "print(\n",
    "    \"Total number of elements in this tuple are = \" + str(size_of_tuple)\n",
    ")"
   ]
  },
  {
   "cell_type": "markdown",
   "metadata": {},
   "source": [
    "### Counting Occurrences of a Specific Element"
   ]
  },
  {
   "cell_type": "code",
   "execution_count": 5,
   "metadata": {},
   "outputs": [
    {
     "name": "stdout",
     "output_type": "stream",
     "text": [
      "Total number of 5s in this tuple are = 1\n"
     ]
    }
   ],
   "source": [
    "# count how many times a particular element is present in our tuple\n",
    "\n",
    "how_many = mytuple.count(5) # count 5 in this tuple\n",
    "\n",
    "print(\"Total number of 5s in this tuple are = \" + str(how_many))"
   ]
  },
  {
   "cell_type": "markdown",
   "metadata": {},
   "source": [
    "## Iterating Through a Tuple"
   ]
  },
  {
   "cell_type": "code",
   "execution_count": 6,
   "metadata": {},
   "outputs": [
    {
     "name": "stdout",
     "output_type": "stream",
     "text": [
      "1\n",
      "2\n",
      "3\n",
      "4\n",
      "5\n",
      "6\n",
      "7\n",
      "8\n",
      "9\n",
      "10\n",
      "___________________\n",
      "2\n",
      "4\n",
      "6\n",
      "8\n",
      "10\n",
      "12\n",
      "14\n",
      "16\n",
      "18\n",
      "20\n"
     ]
    }
   ],
   "source": [
    "# iterating through a tuple using loops\n",
    "\n",
    "for element in mytuple:\n",
    "    print(element)\n",
    "\n",
    "print(\"___________________\")\n",
    "\n",
    "for element in mytuple:\n",
    "    x = element * 2\n",
    "    print(x)"
   ]
  },
  {
   "cell_type": "code",
   "execution_count": 7,
   "metadata": {},
   "outputs": [
    {
     "name": "stdout",
     "output_type": "stream",
     "text": [
      "index 0 : element 1\n",
      "index 1 : element 2\n",
      "index 2 : element 3\n",
      "index 3 : element 4\n",
      "index 4 : element 5\n",
      "index 5 : element 6\n",
      "index 6 : element 7\n",
      "index 7 : element 8\n",
      "index 8 : element 9\n",
      "index 9 : element 10\n",
      "________________\n",
      "index 100 : element 1\n",
      "index 101 : element 2\n",
      "index 102 : element 3\n",
      "index 103 : element 4\n",
      "index 104 : element 5\n",
      "index 105 : element 6\n",
      "index 106 : element 7\n",
      "index 107 : element 8\n",
      "index 108 : element 9\n",
      "index 109 : element 10\n"
     ]
    }
   ],
   "source": [
    "# iterating through a tuple using enumerate, accessing elements as well as their index numbers \n",
    "a_tuple = (1, 2, 3, 4, 5, 6, 7, 8, 9, 10)\n",
    "\n",
    "for index, items in enumerate(a_tuple):\n",
    "    print(f\"index {index} : element {items}\")\n",
    "\n",
    "print(\"________________\")\n",
    "\n",
    "# we can also customize the indexes and their starting points. \n",
    "\n",
    "for i, item in enumerate(a_tuple, start = 100):\n",
    "    print(f\"index {i} : element {item}\")"
   ]
  },
  {
   "cell_type": "markdown",
   "metadata": {},
   "source": [
    "## Checking the Existence of an Element in a Tuple"
   ]
  },
  {
   "cell_type": "code",
   "execution_count": 8,
   "metadata": {},
   "outputs": [
    {
     "name": "stdout",
     "output_type": "stream",
     "text": [
      "True\n"
     ]
    }
   ],
   "source": [
    "# check if some element is present in our tuple or not?\n",
    "\n",
    "is_present = 9 in mytuple\n",
    "\n",
    "print(is_present)"
   ]
  },
  {
   "cell_type": "markdown",
   "metadata": {},
   "source": [
    "## Tuple Concatenation\n",
    "- We cannot insert any element into a tuple once its defined, but we can surely concatenate two tuples to create a new tuple."
   ]
  },
  {
   "cell_type": "code",
   "execution_count": 9,
   "metadata": {},
   "outputs": [
    {
     "name": "stdout",
     "output_type": "stream",
     "text": [
      "(1, 2, 3, 4, 5, 6, 7, 8, 9, 10, 11, 12, 13, 14, 15)\n"
     ]
    }
   ],
   "source": [
    "anOtherTuple = (11,12,13,14,15)\n",
    "\n",
    "concatedTuple = mytuple + anOtherTuple\n",
    "\n",
    "print(concatedTuple)"
   ]
  },
  {
   "cell_type": "markdown",
   "metadata": {},
   "source": [
    "## Named Tuples \n",
    "- So far, we have seen that each tuples has multiple items but these items can only be accessed using their index numbers or index ranges. With named tuples, we can assign names to each element in the tuple. In this way we can easily fetch any element based on its assigned name. \n",
    "- __Syntax__:\n",
    "  - Import `namedtuple` method from `collections module` of python. \n",
    "  - Then create a named tuple as `namedtuple(name_of_tuple , list_of_tuple_elements)`\n",
    "  - The `namedtuple()` method requires the name of our tuple as the first argument and a list containing all the elements of this tuple as the second argument.\n",
    "  - The returned tuple acts just like a class object and its elements act as object attributes."
   ]
  },
  {
   "cell_type": "code",
   "execution_count": 10,
   "metadata": {},
   "outputs": [
    {
     "name": "stdout",
     "output_type": "stream",
     "text": [
      "ntuple(x=1, y=2, z=3)\n",
      "ntuple(x=4, y=5, z=6)\n",
      "____________\n",
      "5\n",
      "5\n"
     ]
    }
   ],
   "source": [
    "# Need to import the namedtuple method of collections module\n",
    "from collections import namedtuple\n",
    "\n",
    "# creating a named tuple object that will be used as a template to create further named tuples based on this template. \n",
    "ntuple = namedtuple(\"ntuple\", ['x', 'y', 'z'])\n",
    "\n",
    "# we can create different instance of this tuple by using our previously created master tuple\n",
    "\n",
    "pointOne = ntuple(x=1, y=2, z=3) # using element names\n",
    "pointTwo = ntuple(4,5,6) # without using element names \n",
    "\n",
    "print(pointOne)\n",
    "print(pointTwo)\n",
    "\n",
    "print(\"____________\")\n",
    "\n",
    "# accessing elements of a named tuple\n",
    "print(pointTwo.y)\n",
    "print(pointTwo[1])\n"
   ]
  },
  {
   "cell_type": "markdown",
   "metadata": {},
   "source": [
    "### Named Tuples with Default Element Values\n",
    "- Because it works just like a class object, it is good to have some default values for its elements. \n",
    "- Although it works just like a class object, it does not supports default element values. For the said purpose we may use multiple workarounds. "
   ]
  },
  {
   "cell_type": "code",
   "execution_count": 11,
   "metadata": {},
   "outputs": [
    {
     "name": "stdout",
     "output_type": "stream",
     "text": [
      "10\n",
      "20\n",
      "30\n",
      "_____\n",
      "1000\n",
      "2000\n",
      "30\n",
      "_____\n",
      "so\n",
      "do so\n",
      "teen so\n",
      "_____\n",
      "panch so\n",
      "do so\n",
      "teen so\n",
      "_____\n"
     ]
    }
   ],
   "source": [
    "# 1. create a method that has arguments with default values and returns a tuple created using those default values. \n",
    "\n",
    "def createTuple(x = 10, y = 20, z = 30):\n",
    "    return ntuple(x, y, z) # using ntuple template created above\n",
    "\n",
    "tup01 = createTuple() # creating using default values \n",
    "for item in tup01:\n",
    "    print(item)\n",
    "print(\"_____\")\n",
    "\n",
    "tup02 = createTuple(1000, 2000) # # creating using some new and some default values\n",
    "for item in tup02:\n",
    "    print(item)\n",
    "print(\"_____\")\n",
    "\n",
    "'''\n",
    "2. create a simple named tuple with values that you want to use as default values. \n",
    "Then create copies of this tuple to create new tuples, replace() method will be used to place any new values in place of default ones.\n",
    "'''\n",
    "\n",
    "default_value_tuple = ntuple('so', 'do so', 'teen so')\n",
    "\n",
    "tup03 = default_value_tuple._replace() # creating with default values, no argument for replace method. \n",
    "for item in tup03:\n",
    "    print(item)\n",
    "print(\"_____\")\n",
    "\n",
    "tup04 = default_value_tuple._replace(x = 'panch so') # supplying new value in place of default value. \n",
    "for item in tup04:\n",
    "    print(item)\n",
    "print(\"_____\")\n",
    "\n"
   ]
  },
  {
   "cell_type": "markdown",
   "metadata": {},
   "source": [
    "## Using tuples as dictionary keys "
   ]
  },
  {
   "cell_type": "code",
   "execution_count": 12,
   "metadata": {},
   "outputs": [
    {
     "name": "stdout",
     "output_type": "stream",
     "text": [
      "Los Angeles\n",
      "Pair 1\n"
     ]
    }
   ],
   "source": [
    "# Using simple tuples as dictionary keys\n",
    "coordinate_dict = {\n",
    "    (40.7128, -74.0060): 'New York City',\n",
    "    (34.0522, -118.2437): 'Los Angeles',\n",
    "    (41.8781, -87.6298): 'Chicago'\n",
    "}\n",
    "\n",
    "print(coordinate_dict[(34.0522, -118.2437)])  # Output: Los Angeles\n",
    "\n",
    "# Using nested tuples as dictionary keys\n",
    "complex_dict = {\n",
    "    ((1, 2), (3, 4)): 'Pair 1',\n",
    "    ((5, 6), (7, 8)): 'Pair 2'\n",
    "}\n",
    "\n",
    "print(complex_dict[((1, 2), (3, 4))])  # Output: Pair 1"
   ]
  },
  {
   "cell_type": "markdown",
   "metadata": {},
   "source": [
    "## Unpacking a Tuple"
   ]
  },
  {
   "cell_type": "code",
   "execution_count": 13,
   "metadata": {},
   "outputs": [
    {
     "name": "stdout",
     "output_type": "stream",
     "text": [
      "3\n",
      "4\n"
     ]
    }
   ],
   "source": [
    "# unpacking of a tuples \n",
    "# unpacking means, assigning all the elements of a tuple to separate variables \n",
    "\n",
    "one, two, three, four, five, six, seven, eight, nine, ten = mytuple\n",
    "\n",
    "print(three)\n",
    "\n",
    "# or we can also use parenthesis on the left side\n",
    "\n",
    "(one, two, three, four, five, six, seven, eight, nine, ten) = mytuple\n",
    "\n",
    "print(four)"
   ]
  },
  {
   "cell_type": "markdown",
   "metadata": {},
   "source": [
    "### Capturing Multiple Values of a Tuple in a Single Variable\n",
    "- The asterisk `*` sign before a variable name that is being used to receive an unpacked value from our tuple indicates that this variable will receive multiple tuple values. This variable will be treated as a list rather than a simple variable. \n",
    "- If we mention asterisk before a variable name and no other variable is provided to receive each unpacked value, all the values will be stored in this single variable. \n",
    "- If the variable with asterisk is at the beginning, and there are one or mother variables after that, the last values will be assigned to each variable according to their order and all the previous values will be assigned to the asterisk variable. \n",
    "- The same is possible to capture multiple values at the end, at the beginning or in the middle. Lets dive into it for better understanding:"
   ]
  },
  {
   "cell_type": "code",
   "execution_count": 14,
   "metadata": {},
   "outputs": [
    {
     "name": "stdout",
     "output_type": "stream",
     "text": [
      "[10, 20]\n",
      "Ammar\n",
      "Ahmad\n",
      "____\n",
      "10\n",
      "[20, 'Ammar']\n",
      "Ahmad\n",
      "____\n",
      "10\n",
      "20\n",
      "['Ammar', 'Ahmad']\n",
      "____\n",
      "[10, 20, 'Ammar']\n",
      "Ahmad\n"
     ]
    }
   ],
   "source": [
    "my_tuple = (10, 20, 'Ammar', 'Ahmad')\n",
    "\n",
    "# unpacking first two values in a single variable and last two values to their own variables\n",
    "*x, y, z = my_tuple # note the asterisk sign\n",
    "print(x) ; print(y) ; print(z) ; print('____')\n",
    "\n",
    "# unpacking values in the middle in a single variable and first and last values to their own variables\n",
    "x, *y, z = my_tuple\n",
    "print(x) ; print(y) ; print(z) ; print('____')\n",
    "\n",
    "# unpacking last two values in a single variable and first two values to their own variables\n",
    "x, y, *z = my_tuple\n",
    "print(x) ; print(y) ; print(z) ; print('____')\n",
    "\n",
    "# unpacking all the elements in single variable, except the last one\n",
    "*x, y = my_tuple\n",
    "print(x) ; print(y)"
   ]
  }
 ],
 "metadata": {
  "kernelspec": {
   "display_name": "base",
   "language": "python",
   "name": "python3"
  },
  "language_info": {
   "codemirror_mode": {
    "name": "ipython",
    "version": 3
   },
   "file_extension": ".py",
   "mimetype": "text/x-python",
   "name": "python",
   "nbconvert_exporter": "python",
   "pygments_lexer": "ipython3",
   "version": "3.12.4"
  }
 },
 "nbformat": 4,
 "nbformat_minor": 2
}
