{
 "cells": [
  {
   "cell_type": "markdown",
   "metadata": {},
   "source": [
    "<h1 align = center>Useful Python Functions</h1>"
   ]
  },
  {
   "cell_type": "markdown",
   "metadata": {},
   "source": [
    "**Table of contents**<a id='toc0_'></a>    \n",
    "- [Zip Function `zip()`](#toc1_1_)    \n",
    "  - [Casting Iterables Into a New Iterable](#toc1_1_1_)    \n",
    "- [Enumerate Function `enumerate()`](#toc1_2_)    \n",
    "  - [Enumerate in Loops](#toc1_2_1_)    \n",
    "  - [Creating New Iterables with Appended Indexes](#toc1_2_2_)    \n",
    "- [Range Function `range()`](#toc1_3_)    \n",
    "  - [In Execution of Loops](#toc1_3_1_)    \n",
    "  - [To Generate Iterables of Numbers](#toc1_3_2_)    \n",
    "  - [Negative Step to Generate Numbers in Reverse Order](#toc1_3_3_)    \n",
    "- [Map Function `map()`](#toc1_4_)    \n",
    "- [Filter Function `filter()`](#toc1_5_)    \n",
    "- [Lambda Functions](#toc1_6_)    \n",
    "  - [Using lambda functions with filter() function](#toc1_6_1_)    \n",
    "  - [Using lambda function with map() function](#toc1_6_2_)    \n",
    "\n",
    "<!-- vscode-jupyter-toc-config\n",
    "\tnumbering=false\n",
    "\tanchor=true\n",
    "\tflat=false\n",
    "\tminLevel=1\n",
    "\tmaxLevel=6\n",
    "\t/vscode-jupyter-toc-config -->\n",
    "<!-- THIS CELL WILL BE REPLACED ON TOC UPDATE. DO NOT WRITE YOUR TEXT IN THIS CELL -->"
   ]
  },
  {
   "cell_type": "markdown",
   "metadata": {},
   "source": [
    "## <a id='toc1_1_'></a>[Zip Function `zip()`](#toc0_)\n",
    "- The `zip` function in Python is a built-in function that allows you to aggregate elements from multiple iterables into a single iterable. \n",
    "- It takes two or more iterables as input and returns a single iterable that contains tuples.\n",
    "- Each tuple of this iterable consists of elements from all the input iterables in such a way that first tuple contains first elements of all the input iterables, second tuple contains second elements and so on.\n",
    "- Usage:\n",
    "  - The primary purpose of `zip` is to facilitate parallel iteration over multiple sequences. This makes it convenient to process related data simultaneously.\n",
    "\n"
   ]
  },
  {
   "cell_type": "code",
   "execution_count": 39,
   "metadata": {},
   "outputs": [
    {
     "name": "stdout",
     "output_type": "stream",
     "text": [
      "The color of apple is red\n",
      "The color of banana is yellow\n",
      "The color of cherry is pink\n"
     ]
    }
   ],
   "source": [
    "fruits = ['apple', 'banana', 'cherry']\n",
    "colors = ['red', 'yellow', 'pink']\n",
    "\n",
    "for x, y in zip(fruits, colors): \n",
    "    print(f'The color of {x} is {y}')"
   ]
  },
  {
   "cell_type": "markdown",
   "metadata": {},
   "source": [
    "### <a id='toc1_1_1_'></a>[Casting Iterables Into a New Iterable](#toc0_)\n",
    "\n"
   ]
  },
  {
   "cell_type": "code",
   "execution_count": 40,
   "metadata": {},
   "outputs": [
    {
     "name": "stdout",
     "output_type": "stream",
     "text": [
      "This list contains all the tuples with combined data : [('apple', 'red'), ('banana', 'yellow'), ('cherry', 'pink')]\n",
      "('apple', 'red')\n",
      "('banana', 'yellow')\n",
      "('cherry', 'pink')\n",
      "The color of apple is red\n",
      "The color of banana is yellow\n",
      "The color of cherry is pink\n"
     ]
    }
   ],
   "source": [
    "# the returned iterable by zip() function can also be casted into our desired iterable such as list\n",
    "\n",
    "combined_list = list(zip(fruits, colors))\n",
    "print(f\"This list contains all the tuples with combined data : {combined_list}\")\n",
    "\n",
    "# this can be iterated just like a simple list of elements \n",
    "for element in combined_list:\n",
    "    print(element)\n",
    "\n",
    "# or dig deeper into it\n",
    "for element in combined_list:\n",
    "    print(f'The color of {element[0]} is {element[1]}')"
   ]
  },
  {
   "cell_type": "markdown",
   "metadata": {},
   "source": [
    "\n",
    "## <a id='toc1_2_'></a>[Enumerate Function `enumerate()`](#toc0_)\n",
    "- Often, when dealing with iterators, we also need to keep a count of iterations. Python eases the programmers’ task by providing a built-in function enumerate() for this task. The enumerate () function adds a counter to an iterable and returns it in the form of an enumerating object. This enumerated object can then be used directly for loops or converted into a list of tuples using the list() function.\n",
    "- Enumerate function helps us to have index numbers with all those iterable which normally do not have index numbers and thus helps us making our program more easy to work with. "
   ]
  },
  {
   "cell_type": "markdown",
   "metadata": {},
   "source": [
    "### <a id='toc1_2_1_'></a>[Enumerate in Loops](#toc0_)"
   ]
  },
  {
   "cell_type": "code",
   "execution_count": 28,
   "metadata": {},
   "outputs": [
    {
     "name": "stdout",
     "output_type": "stream",
     "text": [
      "0 , apple\n",
      "1 , banana\n",
      "2 , cherry\n",
      "['apple', 'banana', 'cherry']\n"
     ]
    }
   ],
   "source": [
    "fruits_list = ['apple', 'banana', 'cherry']\n",
    "\n",
    "# using enumerate in loops, it adds an index with our iterable elements but does not effect the original list.\n",
    "for index, fruit in enumerate(fruits_list): \n",
    "    print(f'{index} , {fruit}')\n",
    "\n",
    "print(fruits_list)"
   ]
  },
  {
   "cell_type": "markdown",
   "metadata": {},
   "source": [
    "### <a id='toc1_2_2_'></a>[Creating New Iterables with Appended Indexes](#toc0_)"
   ]
  },
  {
   "cell_type": "code",
   "execution_count": 30,
   "metadata": {},
   "outputs": [
    {
     "name": "stdout",
     "output_type": "stream",
     "text": [
      "[(0, 'apple'), (1, 'banana'), (2, 'cherry')]\n"
     ]
    }
   ],
   "source": [
    "# creating a new iterable using enumerate and our old iterable\n",
    "list_of_fruits_with_index = [(index, fruit) for index, fruit in enumerate(fruits_list)]\n",
    "\n",
    "print(list_of_fruits_with_index)\n"
   ]
  },
  {
   "cell_type": "markdown",
   "metadata": {},
   "source": [
    "## <a id='toc1_3_'></a>[Range Function `range()`](#toc0_)\n",
    "- This function is extensively used in loops to execute the operation for a specific number of iterations. \n",
    "- This not only helps us to execute instruction for a specific number of times but also assists in skipping some of the iterations using the step size mechanism.\n",
    "- It is also used to generate sequence of numbers with our desired starting and ending points with an optional ability to mention the distance between these generated numbers. \n",
    "- Lets dive into this function for deeper understanding:\n",
    "  - `range(starting_number, ending_number, step_size)`\n",
    "    - Starting number is optional argument, it indicates from where to start generating numbers. \n",
    "    - Ending number is compulsory, it indicates the upper limit of numbers to be generated with the mentioned number is not included. if starting number and step size both are not provided, the ending number is always provided, in this case argument will act as total numbers to be generated.\n",
    "    - Step size indicates the gap between each generated number. "
   ]
  },
  {
   "cell_type": "markdown",
   "metadata": {},
   "source": [
    "### <a id='toc1_3_1_'></a>[In Execution of Loops](#toc0_)"
   ]
  },
  {
   "cell_type": "code",
   "execution_count": 44,
   "metadata": {},
   "outputs": [
    {
     "name": "stdout",
     "output_type": "stream",
     "text": [
      "0\n",
      "1\n",
      "2\n",
      "3\n",
      "4\n"
     ]
    }
   ],
   "source": [
    "# passing only second argument: total numbers to generate / ending number\n",
    "total_numbers_to_generate = 5\n",
    "\n",
    "for number in range(total_numbers_to_generate):\n",
    "    print(number)"
   ]
  },
  {
   "cell_type": "code",
   "execution_count": 46,
   "metadata": {},
   "outputs": [
    {
     "name": "stdout",
     "output_type": "stream",
     "text": [
      "10\n",
      "11\n",
      "12\n",
      "13\n",
      "14\n",
      "15\n",
      "16\n",
      "17\n",
      "18\n",
      "19\n"
     ]
    }
   ],
   "source": [
    "# Mention the starting and ending numbers\n",
    "\n",
    "start = 10\n",
    "end = 20\n",
    "\n",
    "for number in range(start, end): # start -> inclusive, end -> exclusive\n",
    "    print(number)"
   ]
  },
  {
   "cell_type": "code",
   "execution_count": 48,
   "metadata": {},
   "outputs": [
    {
     "name": "stdout",
     "output_type": "stream",
     "text": [
      "10\n",
      "12\n",
      "14\n",
      "16\n",
      "18\n"
     ]
    }
   ],
   "source": [
    "# Using the step size also \n",
    "start = 10\n",
    "end = 20\n",
    "step_size = 2\n",
    "\n",
    "for number in range(start, end, step_size): # every second number is skipped / only five numbers generated\n",
    "    print(number)"
   ]
  },
  {
   "cell_type": "code",
   "execution_count": 54,
   "metadata": {},
   "outputs": [
    {
     "name": "stdout",
     "output_type": "stream",
     "text": [
      "number 1\n",
      "number 3\n",
      "number 5\n",
      "number 7\n",
      "number 9\n",
      "________\n",
      "number 1\n",
      "number 4\n",
      "number 7\n",
      "number 10\n"
     ]
    }
   ],
   "source": [
    "my_list = ['number '+ str(i) for i in range(1, 11)]\n",
    "\n",
    "# printing every SECOND number from our list using range() function \n",
    "for index in range(0, 10, 2):\n",
    "    print(my_list[index])\n",
    "\n",
    "print('________')\n",
    "# printing every THIRD number from our list using range() function \n",
    "for index in range(0, 10, 3):\n",
    "    print(my_list[index])"
   ]
  },
  {
   "cell_type": "markdown",
   "metadata": {},
   "source": [
    "### <a id='toc1_3_2_'></a>[To Generate Iterables of Numbers](#toc0_)"
   ]
  },
  {
   "cell_type": "code",
   "execution_count": 8,
   "metadata": {},
   "outputs": [
    {
     "name": "stdout",
     "output_type": "stream",
     "text": [
      "[1, 2, 3, 4, 5, 6, 7, 8, 9, 10, 11, 12, 13, 14, 15, 16, 17, 18, 19, 20, 21, 22, 23, 24, 25, 26, 27, 28, 29, 30]\n",
      "[1, 4, 7, 10, 13, 16, 19, 22, 25, 28]\n",
      "[1, 8, 27, 64, 125, 216, 343, 512, 729, 1000, 1331, 1728, 2197, 2744, 3375, 4096, 4913, 5832, 6859, 8000]\n"
     ]
    }
   ],
   "source": [
    "list_of_numbers = list(range(1,31))\n",
    "print(list_of_numbers)\n",
    "\n",
    "another_list = list(range(1,31, 3))\n",
    "print(another_list)\n",
    "\n",
    "ek_hor_list = [index**3 for index in range(1,21)]\n",
    "print(ek_hor_list)"
   ]
  },
  {
   "cell_type": "markdown",
   "metadata": {},
   "source": [
    "### <a id='toc1_3_3_'></a>[Negative Step to Generate Numbers in Reverse Order](#toc0_)"
   ]
  },
  {
   "cell_type": "code",
   "execution_count": 19,
   "metadata": {},
   "outputs": [
    {
     "name": "stdout",
     "output_type": "stream",
     "text": [
      "[20, 19, 18, 17, 16, 15, 14, 13, 12, 11, 10, 9, 8, 7, 6, 5, 4, 3, 2, 1]\n",
      "[20, 17, 14, 11, 8, 5, 2]\n"
     ]
    }
   ],
   "source": [
    "my_list = [number for number in range(20, 0, -1)] # the negative step size indicates that numbers will be generated in reverse order. \n",
    "print(my_list)\n",
    "\n",
    "my_list = [number for number in range(20, 0, -3)] # the negative step size indicates that numbers will be generated in reverse order. \n",
    "print(my_list)"
   ]
  },
  {
   "cell_type": "markdown",
   "metadata": {},
   "source": [
    "## <a id='toc1_4_'></a>[Map Function `map()`](#toc0_)\n",
    "\n",
    "- It is used to apply a function/method to each element of an iterable without the need of loops. \n",
    "- It does not return the iterable after applying the function, rather, it returns a map object which can be casted into a desired iterable such as list.\n",
    "- Syntax \n",
    "  - `map(function_to_apply , iterables )`\n",
    "  - 1st argument: The name of function, that we want to apply on our iterables. Function name does not include the parenthesis at the end. \n",
    "  - 2nd argument: One or more iterables on which we want to apply the said function. "
   ]
  },
  {
   "cell_type": "code",
   "execution_count": 21,
   "metadata": {},
   "outputs": [
    {
     "name": "stdout",
     "output_type": "stream",
     "text": [
      "[1, 3, 5, 7, 9, 11, 13, 15, 17, 19]\n",
      "[1, 9, 25, 49, 81, 121, 169, 225, 289, 361]\n"
     ]
    }
   ],
   "source": [
    "my_list = [x for x in range(1,21,2)]\n",
    "def square(number):\n",
    "    return number**2\n",
    "\n",
    "\n",
    "# map() function in action\n",
    "map_object = map(square, my_list)   # a map object returned \n",
    "new_list = list(map_object)         # casted the map object into a list\n",
    "\n",
    "print(my_list)\n",
    "print(new_list)"
   ]
  },
  {
   "cell_type": "markdown",
   "metadata": {},
   "source": [
    "## <a id='toc1_5_'></a>[Filter Function `filter()`](#toc0_)\n",
    "Python’s filter() is a built-in function that allows you to process an iterable and extract those items that satisfy a given condition. This process is commonly known as a filtering operation. With filter(), you can apply a filtering function to an iterable and produce a new iterable with the items that satisfy the condition at hand. In Python, filter() is one of the tools you can use for functional programming.\n",
    "\n",
    "__Advantages__: \n",
    "1. Since filter() is written in C and is highly optimized, its internal implicit loop can be more efficient than a regular for loop regarding execution time. This efficiency is arguably the most important advantage of using the function in Python.\n",
    "2. A second advantage of using filter() over a loop is that it returns a filter object, which is an iterator that yields values on demand, promoting a lazy evaluation strategy. Returning an iterator makes filter() more memory efficient than an equivalent for loop."
   ]
  },
  {
   "cell_type": "code",
   "execution_count": 2,
   "metadata": {},
   "outputs": [
    {
     "name": "stdout",
     "output_type": "stream",
     "text": [
      "[1, 2]\n"
     ]
    }
   ],
   "source": [
    "numbers = [-2, -1, 0, 1, 2]\n",
    "def greater_than(number):\n",
    "    return bool(number > 0)\n",
    "\n",
    "# filter() function in action \n",
    "filter_object = filter(greater_than, numbers)   # a filter object returned \n",
    "new_list = list(filter_object)                  # casted the filter object into a list\n",
    "\n",
    "print(new_list)"
   ]
  },
  {
   "cell_type": "markdown",
   "metadata": {},
   "source": [
    "## <a id='toc1_6_'></a>[Lambda Functions](#toc0_)\n",
    "Lambda functions are similar to user-defined functions but without a name. They're commonly referred to as anonymous functions. They automatically return the value after the required operation hence do not require the return statements. \n",
    "\n",
    "__Advantages__:\n",
    "- Lambda functions are efficient whenever you want to create a function that will only contain simple expressions – that is, expressions that are usually a single line of a statement. They're also useful when you want to use the function once.\n",
    "- They are normally defined for such purposes when we need to pass a function as an argument to another function such as filter() or map() functions.\n",
    "\n",
    "__Syntax__:\n",
    "- `lambda parameter : function_body`\n",
    "- lambda keyword is necessary at the starting, it indicates that the following code is an anonymous function. \n",
    "- parameter refers to the parameter of our function, which is mentioned inside parenthesis in normal functions but in lambda functions, those parenthesis are not required. \n",
    "- function body refers to the operation that is to be performed on function parameter. "
   ]
  },
  {
   "cell_type": "code",
   "execution_count": 12,
   "metadata": {},
   "outputs": [
    {
     "name": "stdout",
     "output_type": "stream",
     "text": [
      "Original List: ['Ammar', 'Ahmad', 'Arslan', 'Umair', 'Ali']\n"
     ]
    }
   ],
   "source": [
    "people = ['Ammar', 'Ahmad', 'Arslan', 'Umair', 'Ali']\n",
    "print(f'Original List: {people}')\n"
   ]
  },
  {
   "cell_type": "markdown",
   "metadata": {},
   "source": [
    "### <a id='toc1_6_1_'></a>[Using lambda functions with filter() function](#toc0_)"
   ]
  },
  {
   "cell_type": "code",
   "execution_count": 13,
   "metadata": {},
   "outputs": [
    {
     "name": "stdout",
     "output_type": "stream",
     "text": [
      "['Ammar', 'Ahmad', 'Umair']\n",
      "['Ammar', 'Ahmad', 'Arslan', 'Ali']\n"
     ]
    }
   ],
   "source": [
    "'''\n",
    "using lambda function with filter() function\n",
    "'''\n",
    "\n",
    "# filtering out names containing 'm' in them. \n",
    "filter_object = filter(lambda person_name: 'm' in person_name, people)\n",
    "names_with_m = list(filter_object)\n",
    "print(names_with_m)\n",
    "\n",
    "# filtering out names that begins with 'A'\n",
    "filter_object = filter(lambda person_name: person_name.startswith('A'), people)\n",
    "names_begin_A = list(filter_object)\n",
    "print(names_begin_A)"
   ]
  },
  {
   "cell_type": "markdown",
   "metadata": {},
   "source": [
    "### <a id='toc1_6_2_'></a>[Using lambda function with map() function](#toc0_)"
   ]
  },
  {
   "cell_type": "code",
   "execution_count": 14,
   "metadata": {},
   "outputs": [
    {
     "name": "stdout",
     "output_type": "stream",
     "text": [
      "['AMMAR', 'AHMAD', 'ARSLAN', 'UMAIR', 'ALI']\n",
      "['__Ammar__', '__Ahmad__', '__Arslan__', '__Umair__', '__Ali__']\n"
     ]
    }
   ],
   "source": [
    "'''\n",
    "using lambda function with map() function \n",
    "'''\n",
    "\n",
    "# capitalize all the names\n",
    "filter_object = map(lambda person_name: person_name.upper(), people)\n",
    "capital_names = list(filter_object)\n",
    "print(capital_names)\n",
    "\n",
    "# stylize our names\n",
    "filter_object = map(lambda person_name: '__' + person_name + '__', people)\n",
    "stylized_names = list(filter_object)\n",
    "print(stylized_names)"
   ]
  },
  {
   "cell_type": "markdown",
   "metadata": {},
   "source": [
    "## The `all()` Function\n",
    "- This built-in function is used to check for the truthiness of an iterable. \n",
    "- It returns true if all the items in our iterable are True values or True in their own sense, for example string 'Tarabon' is true in itself because it is a valid string.\n",
    "- It also returns True if the iterable is empty.\n",
    "- It returns false if any one of the values in our iterable is false. \n",
    "- __Syntax__ : \n",
    "  - `all(an_iterable_such_as_list)`"
   ]
  },
  {
   "cell_type": "code",
   "execution_count": 5,
   "metadata": {},
   "outputs": [
    {
     "name": "stdout",
     "output_type": "stream",
     "text": [
      "True\n",
      "False\n",
      "False\n",
      "False\n",
      "False\n"
     ]
    }
   ],
   "source": [
    "# Check if all items in a list are True:\n",
    "my_list = [True, True, True]\n",
    "x = all(my_list)\n",
    "print(x)\n",
    "\n",
    "my_list = [0, 1, 1] # because zero represents a false value, hence all the values are not True\n",
    "x = all(my_list)\n",
    "print(x)\n",
    "\n",
    "# Check if all items in a tuple are ture\n",
    "mytuple = (0, True, False)\n",
    "x = all(mytuple)\n",
    "print(x)\n",
    "\n",
    "# Check if all items in a set are True\n",
    "myset = {0, 1, 0}\n",
    "x = all(myset)\n",
    "print(x)\n",
    "\n",
    "'''\n",
    "Check if all items in a dictionary are True.\n",
    "When used on a dictionary, the all() function checks if all the keys are true, not the values.\n",
    "'''\n",
    "mydict = {0 : \"Apple\", 1 : \"Orange\"}\n",
    "x = all(mydict)\n",
    "print(x)"
   ]
  },
  {
   "cell_type": "markdown",
   "metadata": {},
   "source": [
    "## The `any()` Function\n",
    "- Just like `all()` function, this function is also used for the truthiness of an iterable. Its operation is a little different. \n",
    "- It returns true if any of the items is True. \n",
    "- Unlike `all()` function, it does not return True if the provided iterable is empty, rather it returns a False. \n",
    "- This function stops it execution as soon as the result is known.\n",
    "- __Syntax__:\n",
    "  - `any(any_iterable_such_as_tuple)`"
   ]
  },
  {
   "cell_type": "code",
   "execution_count": 6,
   "metadata": {},
   "outputs": [
    {
     "name": "stdout",
     "output_type": "stream",
     "text": [
      "False\n",
      "True\n",
      "True\n"
     ]
    }
   ],
   "source": [
    "# Since all are false, false is returned\n",
    "print (any([False, False, False, False]))\n",
    "\n",
    "# Here the method will short-circuit at the\n",
    "# second item (True) and will return True.\n",
    "print (any([False, True, False, False]))\n",
    "\n",
    "# Here the method will stop the execution at the\n",
    "# first (True) and will return True.\n",
    "print (any([True, False, False, False]))"
   ]
  },
  {
   "cell_type": "code",
   "execution_count": 7,
   "metadata": {},
   "outputs": [
    {
     "name": "stdout",
     "output_type": "stream",
     "text": [
      "True\n",
      "True\n",
      "True\n",
      "True\n"
     ]
    }
   ],
   "source": [
    "# Check if any of the items in a list are True\n",
    "mylist = [False, True, False]\n",
    "x = any(mylist)\n",
    "print(x)\n",
    "\n",
    "# Check if any item in a tuple is True\n",
    "mytuple = (0, 1, False)\n",
    "x = any(mytuple)\n",
    "print(x)\n",
    "\n",
    "# Check if any item in a set is True\n",
    "myset = {0, 1, 0}\n",
    "x = any(myset)\n",
    "print(x)\n",
    "\n",
    "'''\n",
    "Check if any item in a dictionary is True\n",
    "When used on a dictionary, the any() function checks if any of the keys are true, not the values.\n",
    "'''\n",
    "mydict = {0 : \"Apple\", 1 : \"Orange\"}\n",
    "x = any(mydict)\n",
    "print(x)"
   ]
  },
  {
   "cell_type": "markdown",
   "metadata": {},
   "source": [
    "## The `dir()` Function\n",
    "- The `dir()` function is used to get a list of all available functions for a particular object, this can be a built-in object like list, tuple, or any user defined object. This function will provide all methods associated with that object."
   ]
  },
  {
   "cell_type": "code",
   "execution_count": 4,
   "metadata": {},
   "outputs": [
    {
     "name": "stdout",
     "output_type": "stream",
     "text": [
      "All available methods for tuple() object: ['__add__', '__class__', '__class_getitem__', '__contains__', '__delattr__', '__dir__', '__doc__', '__eq__', '__format__', '__ge__', '__getattribute__', '__getitem__', '__getnewargs__', '__getstate__', '__gt__', '__hash__', '__init__', '__init_subclass__', '__iter__', '__le__', '__len__', '__lt__', '__mul__', '__ne__', '__new__', '__reduce__', '__reduce_ex__', '__repr__', '__rmul__', '__setattr__', '__sizeof__', '__str__', '__subclasshook__', 'count', 'index']\n",
      "All available methods for list() object: ['__add__', '__class__', '__class_getitem__', '__contains__', '__delattr__', '__delitem__', '__dir__', '__doc__', '__eq__', '__format__', '__ge__', '__getattribute__', '__getitem__', '__getstate__', '__gt__', '__hash__', '__iadd__', '__imul__', '__init__', '__init_subclass__', '__iter__', '__le__', '__len__', '__lt__', '__mul__', '__ne__', '__new__', '__reduce__', '__reduce_ex__', '__repr__', '__reversed__', '__rmul__', '__setattr__', '__setitem__', '__sizeof__', '__str__', '__subclasshook__', 'append', 'clear', 'copy', 'count', 'extend', 'index', 'insert', 'pop', 'remove', 'reverse', 'sort']\n",
      "All available methods for dict() object: ['__class__', '__class_getitem__', '__contains__', '__delattr__', '__delitem__', '__dir__', '__doc__', '__eq__', '__format__', '__ge__', '__getattribute__', '__getitem__', '__getstate__', '__gt__', '__hash__', '__init__', '__init_subclass__', '__ior__', '__iter__', '__le__', '__len__', '__lt__', '__ne__', '__new__', '__or__', '__reduce__', '__reduce_ex__', '__repr__', '__reversed__', '__ror__', '__setattr__', '__setitem__', '__sizeof__', '__str__', '__subclasshook__', 'clear', 'copy', 'fromkeys', 'get', 'items', 'keys', 'pop', 'popitem', 'setdefault', 'update', 'values']\n",
      "All available methods for string object: ['__add__', '__class__', '__contains__', '__delattr__', '__dir__', '__doc__', '__eq__', '__format__', '__ge__', '__getattribute__', '__getitem__', '__getnewargs__', '__getstate__', '__gt__', '__hash__', '__init__', '__init_subclass__', '__iter__', '__le__', '__len__', '__lt__', '__mod__', '__mul__', '__ne__', '__new__', '__reduce__', '__reduce_ex__', '__repr__', '__rmod__', '__rmul__', '__setattr__', '__sizeof__', '__str__', '__subclasshook__', 'capitalize', 'casefold', 'center', 'count', 'encode', 'endswith', 'expandtabs', 'find', 'format', 'format_map', 'index', 'isalnum', 'isalpha', 'isascii', 'isdecimal', 'isdigit', 'isidentifier', 'islower', 'isnumeric', 'isprintable', 'isspace', 'istitle', 'isupper', 'join', 'ljust', 'lower', 'lstrip', 'maketrans', 'partition', 'removeprefix', 'removesuffix', 'replace', 'rfind', 'rindex', 'rjust', 'rpartition', 'rsplit', 'rstrip', 'split', 'splitlines', 'startswith', 'strip', 'swapcase', 'title', 'translate', 'upper', 'zfill']\n"
     ]
    }
   ],
   "source": [
    "print(f'All available methods for tuple() object: {dir((1,))}')\n",
    "print(f'All available methods for list() object: {dir(list())}') # directly type a list like [1,2,3]\n",
    "print(f'All available methods for dict() object: {dir((dict()))}')\n",
    "print(f'All available methods for string object: {dir(str())}')"
   ]
  }
 ],
 "metadata": {
  "kernelspec": {
   "display_name": "Python 3",
   "language": "python",
   "name": "python3"
  },
  "language_info": {
   "codemirror_mode": {
    "name": "ipython",
    "version": 3
   },
   "file_extension": ".py",
   "mimetype": "text/x-python",
   "name": "python",
   "nbconvert_exporter": "python",
   "pygments_lexer": "ipython3",
   "version": "3.12.4"
  }
 },
 "nbformat": 4,
 "nbformat_minor": 2
}
